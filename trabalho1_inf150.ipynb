{
  "nbformat": 4,
  "nbformat_minor": 0,
  "metadata": {
    "colab": {
      "provenance": [],
      "include_colab_link": true
    },
    "kernelspec": {
      "name": "python3",
      "display_name": "Python 3"
    },
    "language_info": {
      "name": "python"
    }
  },
  "cells": [
    {
      "cell_type": "markdown",
      "metadata": {
        "id": "view-in-github",
        "colab_type": "text"
      },
      "source": [
        "<a href=\"https://colab.research.google.com/github/joaovitormelo/trabalhos-ufv/blob/main/trabalho1_inf150.ipynb\" target=\"_parent\"><img src=\"https://colab.research.google.com/assets/colab-badge.svg\" alt=\"Open In Colab\"/></a>"
      ]
    },
    {
      "cell_type": "markdown",
      "source": [
        "[assistas os vídeos de apoio se estiver com dúvidas](https://www.youtube.com/playlist?list=PLcvOyD_LMr6lXoCuJu1nT6M9yejqk4Kz6)"
      ],
      "metadata": {
        "id": "nINot1CgIrnA"
      }
    },
    {
      "cell_type": "markdown",
      "source": [
        "# Trabalho 1\n",
        "\n",
        "Com até 5 integrantes, complete a tabela com os nomes e matriculas:\n",
        "\n",
        "Nome      | Matricula\n",
        "---       |---\n",
        " 1.       |\n",
        " 2.       |\n",
        " 3.       |\n",
        " 4.       |\n",
        " 5.       |"
      ],
      "metadata": {
        "id": "WTuYu9fICkEL"
      }
    },
    {
      "cell_type": "code",
      "source": [
        "# Digitar a lista das matriculas\n",
        "\n",
        "Mat = [7172, 23224, 23323, 12232, 342121]"
      ],
      "metadata": {
        "id": "ByVR5FblC7EI"
      },
      "execution_count": null,
      "outputs": []
    },
    {
      "cell_type": "markdown",
      "source": [
        "# Portas de 3 Entradas\n",
        "\n",
        "tabela com as funções de três entradas:\n",
        "\n",
        "![](https://github.com/arduinoufv/inf150/blob/master/aulas2023/10_portas_universais_de_3.png?raw=true)"
      ],
      "metadata": {
        "id": "ecedQCWGXCsy"
      }
    },
    {
      "cell_type": "markdown",
      "source": [
        "## Qual o mínimo de portas para montar um And2 ou um Xor2 com portas de três entradas\n",
        "\n",
        "![](https://github.com/arduinoufv/inf150/blob/master/aulas2023/portas_de2_com_portas_de_3.png?raw=true)\n",
        "\n",
        "Por exemplo, a Função $and3 = x \\& y \\& z$ pode ser usada para fazer a função $and2 = a \\& b$:\n",
        "\n",
        " fazendo $and2 = and3(a,b,1) = a \\& b \\& 1 = a \\& b$\n",
        "\n",
        " Outro exemplo é a função AndXor = $ x \\oplus y \\& z$, podemos também fazer o and2:\n",
        "\n",
        " $and2 = AndXor(0,a,b) = 0 \\oplus (a \\& b) = a \\& b$.\n",
        "\n"
      ],
      "metadata": {
        "id": "OkK42Za4a3DE"
      }
    },
    {
      "cell_type": "code",
      "source": [
        "#@title Instalando Verilog\n",
        "!pip install git+https://github.com/lesc-ufv/cad4u >& /dev/null\n",
        "!git clone https://github.com/lesc-ufv/cad4u >& /dev/null\n",
        "%load_ext plugin"
      ],
      "metadata": {
        "id": "5AS85SpojAfP"
      },
      "execution_count": 1,
      "outputs": []
    },
    {
      "cell_type": "markdown",
      "source": [
        "## And2 usando And3\n",
        "\n",
        "$and2 = and3(a,b,1) = a \\& b \\& 1 = a \\& b$\n",
        "\n",
        "![](https://github.com/arduinoufv/inf150/blob/master/aulas2023/trabalho1/figuras/and2_com_and3.png?raw=true)\n",
        "\n",
        "Outras soluções (teste)\n",
        "\n",
        "$and2 = and3(a,b,b)$\n",
        "\n",
        "$and2 = and3(a,a,b)$\n",
        "\n",
        "$and2 = and3(1,a,b)$\n",
        "\n"
      ],
      "metadata": {
        "id": "MBiMGZHJkf8M"
      }
    },
    {
      "cell_type": "markdown",
      "source": [
        "### Mostrando o desenho da AND2 usando a and3"
      ],
      "metadata": {
        "id": "ky4TEfJkoCRo"
      }
    },
    {
      "cell_type": "code",
      "source": [
        "%%print_verilog -top AND2\n",
        "module AND2(input a,b, output f);\n",
        "  and3 G(a,b,1,f);\n",
        "endmodule\n",
        "\n",
        "module and3(input x,y,z, output f);\n",
        "  assign f = x & y & z;\n",
        "endmodule\n"
      ],
      "metadata": {
        "colab": {
          "base_uri": "https://localhost:8080/",
          "height": 240
        },
        "id": "-67x-ZWa_6sY",
        "outputId": "056364eb-5836-4504-90a4-319ab04580c5"
      },
      "execution_count": 2,
      "outputs": [
        {
          "output_type": "stream",
          "name": "stdout",
          "text": [
            "Installing. Please wait... done!\n",
            "/content/cad4u/verilog/yosys_command.sh AND2 code.v\n"
          ]
        },
        {
          "output_type": "display_data",
          "data": {
            "text/plain": [
              "<IPython.core.display.SVG object>"
            ],
            "image/svg+xml": "<svg xmlns=\"http://www.w3.org/2000/svg\" xmlns:xlink=\"http://www.w3.org/1999/xlink\" xmlns:s=\"https://github.com/nturley/netlistsvg\" width=\"200\" height=\"184\"><style>svg {\n  stroke:#000;\n  fill:none;\n}\ntext {\n  fill:#000;\n  stroke:none;\n  font-size:10px;\n  font-weight: bold;\n  font-family: &quot;Courier New&quot;, monospace;\n}\nline {\n    stroke-linecap: round;\n}\n.nodelabel {\n  text-anchor: middle;\n}\n.inputPortLabel {\n  text-anchor: end;\n}\n.splitjoinBody {\n  fill:#000;\n}</style><g s:type=\"generic\" transform=\"translate(85,66.5)\" s:width=\"30\" s:height=\"40\" id=\"cell_G\"><text x=\"15\" y=\"-4\" class=\"nodelabel cell_G\" s:attribute=\"ref\">and3</text><rect width=\"30\" height=\"60\" s:generic=\"body\" class=\"cell_G\"/><g transform=\"translate(0,10)\" s:x=\"0\" s:y=\"10\" s:pid=\"in0\" id=\"port_G~x\"><text x=\"-3\" y=\"-4\" class=\"inputPortLabel cell_G\">x</text></g><g transform=\"translate(0,30)\" s:x=\"0\" s:y=\"10\" s:pid=\"in0\" id=\"port_G~y\"><text x=\"-3\" y=\"-4\" class=\"inputPortLabel cell_G\">y</text></g><g transform=\"translate(0,50)\" s:x=\"0\" s:y=\"10\" s:pid=\"in0\" id=\"port_G~z\"><text x=\"-3\" y=\"-4\" class=\"inputPortLabel cell_G\">z</text></g><g transform=\"translate(30,10)\" s:x=\"30\" s:y=\"10\" s:pid=\"out0\" id=\"port_G~f\"><text x=\"5\" y=\"-4\" style=\"fill:#000; stroke:none\" class=\"cell_G\">f</text></g></g><g s:type=\"inputExt\" transform=\"translate(12,22)\" s:width=\"30\" s:height=\"20\" id=\"cell_a\"><text x=\"15\" y=\"-4\" class=\"nodelabel cell_a\" s:attribute=\"ref\">a</text><s:alias val=\"$_inputExt_\"/><path d=\"M0,0 L0,20 L15,20 L30,10 L15,0 Z\" class=\"cell_a\"/><g s:x=\"30\" s:y=\"10\" s:pid=\"Y\"/></g><g s:type=\"inputExt\" transform=\"translate(12,87)\" s:width=\"30\" s:height=\"20\" id=\"cell_b\"><text x=\"15\" y=\"-4\" class=\"nodelabel cell_b\" s:attribute=\"ref\">b</text><s:alias val=\"$_inputExt_\"/><path d=\"M0,0 L0,20 L15,20 L30,10 L15,0 Z\" class=\"cell_b\"/><g s:x=\"30\" s:y=\"10\" s:pid=\"Y\"/></g><g s:type=\"outputExt\" transform=\"translate(158,67)\" s:width=\"30\" s:height=\"20\" id=\"cell_f\"><text x=\"15\" y=\"-4\" class=\"nodelabel cell_f\" s:attribute=\"ref\">f</text><s:alias val=\"$_outputExt_\"/><path d=\"M30,0 L30,20 L15,20 L0,10 L15,0 Z\" class=\"cell_f\"/><g s:x=\"0\" s:y=\"10\" s:pid=\"A\"/></g><g s:type=\"constant\" transform=\"translate(12,152)\" s:width=\"30\" s:height=\"20\" id=\"cell_1\"><text x=\"15\" y=\"-4\" class=\"nodelabel cell_1\" s:attribute=\"ref\">1</text><s:alias val=\"$_constant_\"/><rect width=\"30\" height=\"20\" class=\"cell_1\"/><g s:x=\"31\" s:y=\"10\" s:pid=\"Y\"/></g><line x1=\"42\" x2=\"53\" y1=\"32\" y2=\"32\" class=\"net_2 width_1\" style=\"stroke-width: 1\"/><line x1=\"53\" x2=\"53\" y1=\"32\" y2=\"77\" class=\"net_2 width_1\" style=\"stroke-width: 1\"/><line x1=\"53\" x2=\"85\" y1=\"77\" y2=\"77\" class=\"net_2 width_1\" style=\"stroke-width: 1\"/><line x1=\"42\" x2=\"85\" y1=\"97\" y2=\"97\" class=\"net_3 width_1\" style=\"stroke-width: 1\"/><line x1=\"43\" x2=\"53\" y1=\"162\" y2=\"162\" class=\"net_5 width_1\" style=\"stroke-width: 1\"/><line x1=\"53\" x2=\"53\" y1=\"162\" y2=\"117\" class=\"net_5 width_1\" style=\"stroke-width: 1\"/><line x1=\"53\" x2=\"85\" y1=\"117\" y2=\"117\" class=\"net_5 width_1\" style=\"stroke-width: 1\"/><line x1=\"116\" x2=\"158\" y1=\"77\" y2=\"77\" class=\"net_4 width_1\" style=\"stroke-width: 1\"/></svg>"
          },
          "metadata": {}
        }
      ]
    },
    {
      "cell_type": "markdown",
      "source": [
        "### Código de teste\n",
        "\n",
        "Este código irá gerar todas as combinações para testar as duas versões, a porta original **and2** com a equação $a\\&b$ e a porta **AND2** que foi construída usando uma porta **and3** com a atribuição correta nas entradas, onde $x \\leftarrow a, y \\leftarrow b, z \\leftarrow 1$."
      ],
      "metadata": {
        "id": "2aBK94_eoJCn"
      }
    },
    {
      "cell_type": "code",
      "source": [
        "%%writefile verificacao.v\n",
        "// Verificacao\n",
        "module logic_testbench();\n",
        "reg [1:0] counter;\n",
        "wire And2,A2comA3;\n",
        "wire a,b;\n",
        "integer k;\n",
        "\n",
        "assign a = counter[1];\n",
        "assign b = counter[0];\n",
        "\n",
        "\n",
        "and2 G1(a,b,And2);\n",
        "AND2 G2(a,b,A2comA3);\n",
        "\n",
        "\tinitial begin\n",
        "  \t$display(\"Tabela Verdade\");\n",
        "\t\t$display(\"L   ab  | And2   AND2\");\n",
        "\t\t$monitor(\"%d   %2b  | %1b       %1b \", counter, counter, And2, A2comA3);\n",
        "\t\tcounter = 0;\n",
        "\t\tfor (k=1; k<4; k=k+1)\n",
        "     #1 counter = k;\n",
        "\t\t$finish;\n",
        "\tend\n",
        "endmodule"
      ],
      "metadata": {
        "colab": {
          "base_uri": "https://localhost:8080/"
        },
        "id": "qraqISwvlszA",
        "outputId": "6e8915e4-efad-4552-b821-e47d49426094"
      },
      "execution_count": 3,
      "outputs": [
        {
          "output_type": "stream",
          "name": "stdout",
          "text": [
            "Writing verificacao.v\n"
          ]
        }
      ]
    },
    {
      "cell_type": "markdown",
      "source": [
        "### Código que **implementa** a AND2 com modulo da and3."
      ],
      "metadata": {
        "id": "NiZHTw8Zow5g"
      }
    },
    {
      "cell_type": "code",
      "source": [
        "%%verilog \n",
        "// porta BASE\n",
        "module and3(input x,y,z, output f);  \n",
        "  assign f = x & y & z;         //  ** AQUI é a equação da porta and3 **\n",
        "endmodule\n",
        "\n",
        "// Porta ALVO\n",
        "module and2(input a,b, output f);\n",
        "  assign f = a & b;           //  ** AQUI é a equação da porta and2 original  **\n",
        "endmodule\n",
        "\n",
        "// SOLUCAO\n",
        "module AND2(input a,b, output f); \n",
        "  and3 G(a,b,1,f);    //  ** AQUI é porta AND2 sendo construída com um modulo interno and3 **\n",
        "endmodule\n",
        "\n",
        "`include \"verificacao.v\"\n",
        "\n"
      ],
      "metadata": {
        "colab": {
          "base_uri": "https://localhost:8080/"
        },
        "id": "W92o-ChVfrqD",
        "outputId": "f382bfe3-1016-4744-bc4f-0be0ab5c4360"
      },
      "execution_count": 4,
      "outputs": [
        {
          "output_type": "stream",
          "name": "stdout",
          "text": [
            "Tabela Verdade\n",
            "L   ab  | And2   AND2\n",
            "0   00  | 0       0 \n",
            "1   01  | 0       0 \n",
            "2   10  | 0       0 \n",
            "3   11  | 1       1 \n",
            "\n"
          ]
        }
      ]
    },
    {
      "cell_type": "markdown",
      "source": [
        "## And2 usando AndXor\n",
        "\n",
        "$and2 = AndXor(0,a,b) = 0 \\oplus (a \\& b) = a \\& b$\n",
        "\n",
        "\n",
        "![](https://github.com/arduinoufv/inf150/blob/master/aulas2023/trabalho1/figuras/and2_com_andxor.png?raw=true)\n",
        "\n",
        "outras opções\n",
        "\n",
        "$and2 = AndXor(0,b,a) = 0 \\oplus (b \\& a) = b \\& a$\n",
        "\n",
        "\n",
        "\n"
      ],
      "metadata": {
        "id": "Kn7gJc5F9wbn"
      }
    },
    {
      "cell_type": "code",
      "source": [
        "%%print_verilog -top AND2\n",
        "module andxor(input x,y,z, output f);\n",
        "  assign f = x ^ y & z;\n",
        "endmodule\n",
        "\n",
        "// SOLUCAO\n",
        "module AND2(input a,b, output f);\n",
        "  andxor G(0,a,b,f);\n",
        "endmodule"
      ],
      "metadata": {
        "colab": {
          "base_uri": "https://localhost:8080/",
          "height": 223
        },
        "id": "S2YIL9HQAUNO",
        "outputId": "48737f24-453a-4c56-c07d-2797be165399"
      },
      "execution_count": null,
      "outputs": [
        {
          "output_type": "stream",
          "name": "stdout",
          "text": [
            "/content/cad4u/verilog/yosys_command.sh AND2 code.v\n"
          ]
        },
        {
          "output_type": "display_data",
          "data": {
            "text/plain": [
              "<IPython.core.display.SVG object>"
            ],
            "image/svg+xml": "<svg xmlns=\"http://www.w3.org/2000/svg\" xmlns:xlink=\"http://www.w3.org/1999/xlink\" xmlns:s=\"https://github.com/nturley/netlistsvg\" width=\"200\" height=\"184\"><style>svg {\n  stroke:#000;\n  fill:none;\n}\ntext {\n  fill:#000;\n  stroke:none;\n  font-size:10px;\n  font-weight: bold;\n  font-family: &quot;Courier New&quot;, monospace;\n}\nline {\n    stroke-linecap: round;\n}\n.nodelabel {\n  text-anchor: middle;\n}\n.inputPortLabel {\n  text-anchor: end;\n}\n.splitjoinBody {\n  fill:#000;\n}</style><g s:type=\"generic\" transform=\"translate(85,66.5)\" s:width=\"30\" s:height=\"40\" id=\"cell_G\"><text x=\"15\" y=\"-4\" class=\"nodelabel cell_G\" s:attribute=\"ref\">andxor</text><rect width=\"30\" height=\"60\" s:generic=\"body\" class=\"cell_G\"/><g transform=\"translate(0,10)\" s:x=\"0\" s:y=\"10\" s:pid=\"in0\" id=\"port_G~x\"><text x=\"-3\" y=\"-4\" class=\"inputPortLabel cell_G\">x</text></g><g transform=\"translate(0,30)\" s:x=\"0\" s:y=\"10\" s:pid=\"in0\" id=\"port_G~y\"><text x=\"-3\" y=\"-4\" class=\"inputPortLabel cell_G\">y</text></g><g transform=\"translate(0,50)\" s:x=\"0\" s:y=\"10\" s:pid=\"in0\" id=\"port_G~z\"><text x=\"-3\" y=\"-4\" class=\"inputPortLabel cell_G\">z</text></g><g transform=\"translate(30,10)\" s:x=\"30\" s:y=\"10\" s:pid=\"out0\" id=\"port_G~f\"><text x=\"5\" y=\"-4\" style=\"fill:#000; stroke:none\" class=\"cell_G\">f</text></g></g><g s:type=\"inputExt\" transform=\"translate(12,87)\" s:width=\"30\" s:height=\"20\" id=\"cell_a\"><text x=\"15\" y=\"-4\" class=\"nodelabel cell_a\" s:attribute=\"ref\">a</text><s:alias val=\"$_inputExt_\"/><path d=\"M0,0 L0,20 L15,20 L30,10 L15,0 Z\" class=\"cell_a\"/><g s:x=\"30\" s:y=\"10\" s:pid=\"Y\"/></g><g s:type=\"inputExt\" transform=\"translate(12,152)\" s:width=\"30\" s:height=\"20\" id=\"cell_b\"><text x=\"15\" y=\"-4\" class=\"nodelabel cell_b\" s:attribute=\"ref\">b</text><s:alias val=\"$_inputExt_\"/><path d=\"M0,0 L0,20 L15,20 L30,10 L15,0 Z\" class=\"cell_b\"/><g s:x=\"30\" s:y=\"10\" s:pid=\"Y\"/></g><g s:type=\"outputExt\" transform=\"translate(158,67)\" s:width=\"30\" s:height=\"20\" id=\"cell_f\"><text x=\"15\" y=\"-4\" class=\"nodelabel cell_f\" s:attribute=\"ref\">f</text><s:alias val=\"$_outputExt_\"/><path d=\"M30,0 L30,20 L15,20 L0,10 L15,0 Z\" class=\"cell_f\"/><g s:x=\"0\" s:y=\"10\" s:pid=\"A\"/></g><g s:type=\"constant\" transform=\"translate(12,22)\" s:width=\"30\" s:height=\"20\" id=\"cell_0\"><text x=\"15\" y=\"-4\" class=\"nodelabel cell_0\" s:attribute=\"ref\">0</text><s:alias val=\"$_constant_\"/><rect width=\"30\" height=\"20\" class=\"cell_0\"/><g s:x=\"31\" s:y=\"10\" s:pid=\"Y\"/></g><line x1=\"43\" x2=\"53\" y1=\"32\" y2=\"32\" class=\"net_5 width_1\" style=\"stroke-width: 1\"/><line x1=\"53\" x2=\"53\" y1=\"32\" y2=\"77\" class=\"net_5 width_1\" style=\"stroke-width: 1\"/><line x1=\"53\" x2=\"85\" y1=\"77\" y2=\"77\" class=\"net_5 width_1\" style=\"stroke-width: 1\"/><line x1=\"42\" x2=\"85\" y1=\"97\" y2=\"97\" class=\"net_2 width_1\" style=\"stroke-width: 1\"/><line x1=\"42\" x2=\"53\" y1=\"162\" y2=\"162\" class=\"net_3 width_1\" style=\"stroke-width: 1\"/><line x1=\"53\" x2=\"53\" y1=\"162\" y2=\"117\" class=\"net_3 width_1\" style=\"stroke-width: 1\"/><line x1=\"53\" x2=\"85\" y1=\"117\" y2=\"117\" class=\"net_3 width_1\" style=\"stroke-width: 1\"/><line x1=\"116\" x2=\"158\" y1=\"77\" y2=\"77\" class=\"net_4 width_1\" style=\"stroke-width: 1\"/></svg>"
          },
          "metadata": {}
        }
      ]
    },
    {
      "cell_type": "code",
      "source": [
        "%%verilog \n",
        "// porta BASE\n",
        "module andxor(input x,y,z, output f);\n",
        "  assign f = x ^ y & z;  //  ** AQUI é a equação da porta andxor **\n",
        "endmodule\n",
        "\n",
        "// Porta ALVO\n",
        "module and2(input a,b, output f);\n",
        "  assign f = a & b;    //  ** AQUI é a equação da porta and2 original  **\n",
        "endmodule\n",
        "\n",
        "// SOLUCAO\n",
        "module AND2(input a,b, output f);\n",
        "  andxor G(0,b,a,f);    //  ** AQUI é porta AND2 sendo construída com um modulo interno andxor **\n",
        "endmodule\n",
        "\n",
        "`include \"verificacao.v\""
      ],
      "metadata": {
        "colab": {
          "base_uri": "https://localhost:8080/"
        },
        "outputId": "013120d7-7763-4543-83b1-0c9dd853cc93",
        "id": "VHOe42sQ9wbn"
      },
      "execution_count": null,
      "outputs": [
        {
          "output_type": "stream",
          "name": "stdout",
          "text": [
            "Tabela Verdade\n",
            "L   ab  | And2   AND2\n",
            "0   00  | 0       0 \n",
            "1   01  | 0       0 \n",
            "2   10  | 0       0 \n",
            "3   11  | 1       1 \n",
            "\n"
          ]
        }
      ]
    },
    {
      "cell_type": "markdown",
      "source": [
        "## Parte 1 do Trabalho\n",
        "\n",
        "Para o seu grupo, executa a célula abaixo para saber quais as portas terá que fazer. \n",
        "\n",
        "1. Gera uma célula texto com as explicações de como chegou na combinação de argumentos\n",
        "\n",
        "2. Faça o código verilog para mostrar que funciona."
      ],
      "metadata": {
        "id": "q_qrvl_vDQ7Q"
      }
    },
    {
      "cell_type": "code",
      "source": [
        "#@title Gerando a parte I - Tem que **EXECUTAR ESTA CÉLULA !!!**\n",
        "L = [ \"dot\",\"onehot\",\"Mux\",\"XorAnd\",\"Gamble\",\"OrAnd\",\"Majority\"]\n",
        "\n",
        "D = {}\n",
        "print(\"a) Faça uma porta and2 usando somente uma porta \",L[(sum(Mat)//197)%len(L)])\n",
        "D[L[(sum(Mat)//197)%len(L)]] = 1\n",
        "x=157\n",
        "while (L[(sum(Mat)//x)%len(L)] in D):\n",
        "  x = x+1 \n",
        "D[L[(sum(Mat)//x)%len(L)]]  = 1\n",
        "print(\"b) Faça uma porta and2 usando somente uma porta \",L[(sum(Mat)//x)%len(L)])\n",
        "x= 137\n",
        "while (L[(sum(Mat)//x)%len(L)] in D):\n",
        "  x = x+1 \n",
        "D[L[(sum(Mat)//x)%len(L)]]  = 1\n",
        "print(\"c) Faça uma porta and2 usando somente uma porta \",L[(sum(Mat)//x)%len(L)])\n",
        "x= 487\n",
        "while (L[(sum(Mat)//x)%5] in D):\n",
        "  x = x+1 \n",
        "print(\"d) Faça uma porta xor2 usando somente uma porta \",L[(sum(Mat)//x)%5])"
      ],
      "metadata": {
        "colab": {
          "base_uri": "https://localhost:8080/"
        },
        "id": "zD626wupDc_n",
        "outputId": "6723f9d6-19b9-498b-a11e-9a85c5a484fc"
      },
      "execution_count": null,
      "outputs": [
        {
          "output_type": "stream",
          "name": "stdout",
          "text": [
            "a) Faça uma porta and2 usando somente uma porta  Majority\n",
            "b) Faça uma porta and2 usando somente uma porta  Mux\n",
            "c) Faça uma porta and2 usando somente uma porta  XorAnd\n",
            "d) Faça uma porta xor2 usando somente uma porta  onehot\n"
          ]
        }
      ]
    },
    {
      "cell_type": "markdown",
      "source": [
        "### Material de apoio\n",
        "\n",
        "[esboço dos desenhos no excalidraw](https://excalidraw.com/#json=AYXdp9PN6-saSNvcizvFx,8fIfOYrj8qde4r5fROT-WQ)"
      ],
      "metadata": {
        "id": "ursKxtF_uGc8"
      }
    },
    {
      "cell_type": "markdown",
      "source": [
        "### **a)** porta and2 usando somente uma porta  Majority\n",
        "\n",
        "Com o input x sendo 0, a porta majority apenas dará 1 caso tanto y e z sejam 1, o que corresponde ao mesmo comportamento da porta and2.\n"
      ],
      "metadata": {
        "id": "oZvneOnlFutE"
      }
    },
    {
      "cell_type": "code",
      "source": [
        "%%verilog \n",
        "// porta BASE\n",
        "module maj(input x,y,z, output f);\n",
        "  assign f = x & z | x & y | y & z;  //  ** AQUI é a equação da porta maj, sua porta pode ser outra... **\n",
        "endmodule\n",
        "\n",
        "// Porta ALVO\n",
        "module and2(input a,b, output f);\n",
        "  assign f = a & b;    //  ** AQUI é a equação da porta and2 original  **\n",
        "endmodule\n",
        "\n",
        "// SOLUCAO\n",
        "module AND2(input a,b, output f);\n",
        "  maj G(0, a, b,f);    //  ** AQUI é porta AND2 sendo construída com um modulo interno maj **\n",
        "endmodule\n",
        "\n",
        "`include \"verificacao.v\""
      ],
      "metadata": {
        "id": "4NAtZbdQuXkL",
        "outputId": "dfeb846d-2177-48aa-807a-7cf7da1ca678",
        "colab": {
          "base_uri": "https://localhost:8080/"
        }
      },
      "execution_count": 5,
      "outputs": [
        {
          "output_type": "stream",
          "name": "stdout",
          "text": [
            "Tabela Verdade\n",
            "L   ab  | And2   AND2\n",
            "0   00  | 0       0 \n",
            "1   01  | 0       0 \n",
            "2   10  | 0       0 \n",
            "3   11  | 1       1 \n",
            "\n"
          ]
        }
      ]
    },
    {
      "cell_type": "markdown",
      "source": [
        "### **b)**"
      ],
      "metadata": {
        "id": "KwxSG4TmGdhy"
      }
    },
    {
      "cell_type": "markdown",
      "source": [
        "### **c)**"
      ],
      "metadata": {
        "id": "M6CCnaUXGdsg"
      }
    },
    {
      "cell_type": "markdown",
      "source": [
        "### **d)**"
      ],
      "metadata": {
        "id": "GAzwl-2pGd1x"
      }
    },
    {
      "cell_type": "code",
      "source": [
        "%%writefile verificacao_xor2.v\n",
        "// Verificacao\n",
        "module logic_testbench();\n",
        "reg [1:0] counter;\n",
        "wire xor2,Xor2;\n",
        "wire a,b;\n",
        "integer k;\n",
        "\n",
        "assign a = counter[1];\n",
        "assign b = counter[0];\n",
        "\n",
        "\n",
        "xor2 G1(a,b,xor2);\n",
        "XOR2 G2(a,b,Xor2);\n",
        "\n",
        "\tinitial begin\n",
        "  \t$display(\"Tabela Verdade\");\n",
        "\t\t$display(\"L   ab  | Xor2   XOR2\");\n",
        "\t\t$monitor(\"%d   %2b  | %1b       %1b \", counter, counter, xor2, Xor2);\n",
        "\t\tcounter = 0;\n",
        "\t\tfor (k=1; k<4; k=k+1)\n",
        "     #1 counter = k;\n",
        "\t\t$finish;\n",
        "\tend\n",
        "endmodule"
      ],
      "metadata": {
        "colab": {
          "base_uri": "https://localhost:8080/"
        },
        "outputId": "c1bc3c22-c510-4b04-b70b-c62c99f00f56",
        "id": "3so0flDcu0eP"
      },
      "execution_count": null,
      "outputs": [
        {
          "output_type": "stream",
          "name": "stdout",
          "text": [
            "Overwriting verificacao_xor2.v\n"
          ]
        }
      ]
    },
    {
      "cell_type": "code",
      "source": [
        "%%verilog \n",
        "// porta BASE\n",
        "module gamble(input x,y,z, output f);\n",
        "  assign f = (x & y & z) ^ (~x & ~y & ~z) ;  //  ** AQUI é a equação da porta gamble sua porta pode ser outra... **\n",
        "endmodule\n",
        "\n",
        "// Porta ALVO\n",
        "module xor2(input a,b, output f);\n",
        "  assign f = a ^ b;    //  ** AQUI é a equação da porta xor2 original  **\n",
        "endmodule\n",
        "\n",
        "// SOLUCAO\n",
        "module XOR2(input a,b, output f);\n",
        "  gamble G(   );   // PREENCHER....\n",
        "endmodule\n",
        "\n",
        "`include \"verificacao_xor2.v\""
      ],
      "metadata": {
        "colab": {
          "base_uri": "https://localhost:8080/"
        },
        "id": "SqRgsoMovHt9",
        "outputId": "be56c756-ec6d-4f44-aaf4-f6706f970411"
      },
      "execution_count": null,
      "outputs": [
        {
          "output_type": "stream",
          "name": "stdout",
          "text": [
            "Tabela Verdade\n",
            "L   ab  | Xor2   XOR2\n",
            "0   00  | 0       0 \n",
            "1   01  | 1       1 \n",
            "2   10  | 1       1 \n",
            "3   11  | 0       0 \n",
            "\n"
          ]
        }
      ]
    },
    {
      "cell_type": "markdown",
      "source": [
        "## Portas de 3 para fazer portas de 3\n",
        "\n",
        "![](https://github.com/arduinoufv/inf150/blob/master/aulas2023/portas_3_com_portas_de_3.png?raw=true)"
      ],
      "metadata": {
        "id": "qoyHaxYsh9U3"
      }
    },
    {
      "cell_type": "markdown",
      "source": [
        "## Porta Multiplexador\n",
        "\n",
        "\n",
        "Podemos fazer qualquer função com 7 portas multiplexador no formato de arvore. Basta colocar valores nas entradas\n",
        "\n",
        "![](https://2.bp.blogspot.com/-WrtBvWKZLrQ/V2v-PoHCxnI/AAAAAAAAAas/Sv4V7j4W2p4bvgGGrvYpXoSBpqphGtsHgCK4B/s640/8x1%2Bmux%2Bstructure.png)\n",
        "\n"
      ],
      "metadata": {
        "id": "BoB_f-CG1CQC"
      }
    },
    {
      "cell_type": "markdown",
      "source": [
        "### Exemplo porta And3 $f= x \\& y \\& z$\n",
        "\n",
        "Abaixo como fazer a porta And3. Começamos com todos os valores da função. \n",
        "\n",
        "Depois simplificamos os mux com entradas iguais.\n",
        "\n",
        "Depois simplificamos o mux do primeiro nivel pela variável.\n",
        "\n",
        "![](https://github.com/arduinoufv/inf150/blob/master/aulas2023/and3_com_mux.png?raw=true)"
      ],
      "metadata": {
        "id": "dMnH1TYz1fr7"
      }
    },
    {
      "cell_type": "code",
      "source": [
        "%%print_verilog -top AND3\n",
        "// porta BASE\n",
        "module mux(input x,y,z, output f);\n",
        "  assign f = x ? y: z; // f = x & y | ~x & z;\n",
        "endmodule\n",
        "\n",
        "// SOLUCAO\n",
        "module AND3(input a,b,c, output f);\n",
        "wire W1;\n",
        "  mux G1(b,c,0,W1);\n",
        "  mux G2(a,W1,0,f);\n",
        "endmodule"
      ],
      "metadata": {
        "colab": {
          "base_uri": "https://localhost:8080/",
          "height": 243
        },
        "id": "E08oQWxpBCZY",
        "outputId": "3a88a94e-da91-41f4-f451-9e6752057dbf"
      },
      "execution_count": null,
      "outputs": [
        {
          "output_type": "stream",
          "name": "stdout",
          "text": [
            "/content/cad4u/verilog/yosys_command.sh Mux code.v\n"
          ]
        },
        {
          "output_type": "display_data",
          "data": {
            "text/plain": [
              "<IPython.core.display.SVG object>"
            ],
            "image/svg+xml": "<svg xmlns=\"http://www.w3.org/2000/svg\" xmlns:xlink=\"http://www.w3.org/1999/xlink\" xmlns:s=\"https://github.com/nturley/netlistsvg\" width=\"280\" height=\"204.5\"><style>svg {\n  stroke:#000;\n  fill:none;\n}\ntext {\n  fill:#000;\n  stroke:none;\n  font-size:10px;\n  font-weight: bold;\n  font-family: &quot;Courier New&quot;, monospace;\n}\nline {\n    stroke-linecap: round;\n}\n.nodelabel {\n  text-anchor: middle;\n}\n.inputPortLabel {\n  text-anchor: end;\n}\n.splitjoinBody {\n  fill:#000;\n}</style><g s:type=\"generic\" transform=\"translate(85,87)\" s:width=\"30\" s:height=\"40\" id=\"cell_G1\"><text x=\"15\" y=\"-4\" class=\"nodelabel cell_G1\" s:attribute=\"ref\">mux</text><rect width=\"30\" height=\"60\" s:generic=\"body\" class=\"cell_G1\"/><g transform=\"translate(0,10)\" s:x=\"0\" s:y=\"10\" s:pid=\"in0\" id=\"port_G1~x\"><text x=\"-3\" y=\"-4\" class=\"inputPortLabel cell_G1\">x</text></g><g transform=\"translate(0,30)\" s:x=\"0\" s:y=\"10\" s:pid=\"in0\" id=\"port_G1~y\"><text x=\"-3\" y=\"-4\" class=\"inputPortLabel cell_G1\">y</text></g><g transform=\"translate(0,50)\" s:x=\"0\" s:y=\"10\" s:pid=\"in0\" id=\"port_G1~z\"><text x=\"-3\" y=\"-4\" class=\"inputPortLabel cell_G1\">z</text></g><g transform=\"translate(30,10)\" s:x=\"30\" s:y=\"10\" s:pid=\"out0\" id=\"port_G1~f\"><text x=\"5\" y=\"-4\" style=\"fill:#000; stroke:none\" class=\"cell_G1\">f</text></g></g><g s:type=\"generic\" transform=\"translate(165,67)\" s:width=\"30\" s:height=\"40\" id=\"cell_G2\"><text x=\"15\" y=\"-4\" class=\"nodelabel cell_G2\" s:attribute=\"ref\">mux</text><rect width=\"30\" height=\"60\" s:generic=\"body\" class=\"cell_G2\"/><g transform=\"translate(0,10)\" s:x=\"0\" s:y=\"10\" s:pid=\"in0\" id=\"port_G2~x\"><text x=\"-3\" y=\"-4\" class=\"inputPortLabel cell_G2\">x</text></g><g transform=\"translate(0,30)\" s:x=\"0\" s:y=\"10\" s:pid=\"in0\" id=\"port_G2~y\"><text x=\"-3\" y=\"-4\" class=\"inputPortLabel cell_G2\">y</text></g><g transform=\"translate(0,50)\" s:x=\"0\" s:y=\"10\" s:pid=\"in0\" id=\"port_G2~z\"><text x=\"-3\" y=\"-4\" class=\"inputPortLabel cell_G2\">z</text></g><g transform=\"translate(30,10)\" s:x=\"30\" s:y=\"10\" s:pid=\"out0\" id=\"port_G2~f\"><text x=\"5\" y=\"-4\" style=\"fill:#000; stroke:none\" class=\"cell_G2\">f</text></g></g><g s:type=\"inputExt\" transform=\"translate(85,22)\" s:width=\"30\" s:height=\"20\" id=\"cell_a\"><text x=\"15\" y=\"-4\" class=\"nodelabel cell_a\" s:attribute=\"ref\">a</text><s:alias val=\"$_inputExt_\"/><path d=\"M0,0 L0,20 L15,20 L30,10 L15,0 Z\" class=\"cell_a\"/><g s:x=\"30\" s:y=\"10\" s:pid=\"Y\"/></g><g s:type=\"inputExt\" transform=\"translate(12,42.5)\" s:width=\"30\" s:height=\"20\" id=\"cell_b\"><text x=\"15\" y=\"-4\" class=\"nodelabel cell_b\" s:attribute=\"ref\">b</text><s:alias val=\"$_inputExt_\"/><path d=\"M0,0 L0,20 L15,20 L30,10 L15,0 Z\" class=\"cell_b\"/><g s:x=\"30\" s:y=\"10\" s:pid=\"Y\"/></g><g s:type=\"inputExt\" transform=\"translate(12,107.5)\" s:width=\"30\" s:height=\"20\" id=\"cell_c\"><text x=\"15\" y=\"-4\" class=\"nodelabel cell_c\" s:attribute=\"ref\">c</text><s:alias val=\"$_inputExt_\"/><path d=\"M0,0 L0,20 L15,20 L30,10 L15,0 Z\" class=\"cell_c\"/><g s:x=\"30\" s:y=\"10\" s:pid=\"Y\"/></g><g s:type=\"outputExt\" transform=\"translate(238,67.5)\" s:width=\"30\" s:height=\"20\" id=\"cell_f\"><text x=\"15\" y=\"-4\" class=\"nodelabel cell_f\" s:attribute=\"ref\">f</text><s:alias val=\"$_outputExt_\"/><path d=\"M30,0 L30,20 L15,20 L0,10 L15,0 Z\" class=\"cell_f\"/><g s:x=\"0\" s:y=\"10\" s:pid=\"A\"/></g><g s:type=\"constant\" transform=\"translate(12,172.5)\" s:width=\"30\" s:height=\"20\" id=\"cell_0\"><text x=\"15\" y=\"-4\" class=\"nodelabel cell_0\" s:attribute=\"ref\">0</text><s:alias val=\"$_constant_\"/><rect width=\"30\" height=\"20\" class=\"cell_0\"/><g s:x=\"31\" s:y=\"10\" s:pid=\"Y\"/></g><line x1=\"42\" x2=\"53\" y1=\"52.5\" y2=\"52.5\" class=\"net_3 width_1\" style=\"stroke-width: 1\"/><line x1=\"53\" x2=\"53\" y1=\"52.5\" y2=\"97.5\" class=\"net_3 width_1\" style=\"stroke-width: 1\"/><line x1=\"53\" x2=\"85\" y1=\"97.5\" y2=\"97.5\" class=\"net_3 width_1\" style=\"stroke-width: 1\"/><line x1=\"42\" x2=\"85\" y1=\"117.5\" y2=\"117.5\" class=\"net_4 width_1\" style=\"stroke-width: 1\"/><line x1=\"43\" x2=\"53\" y1=\"182.5\" y2=\"182.5\" class=\"net_7 width_1\" style=\"stroke-width: 1\"/><line x1=\"53\" x2=\"53\" y1=\"182.5\" y2=\"137.5\" class=\"net_7 width_1\" style=\"stroke-width: 1\"/><circle cx=\"53\" cy=\"182.5\" r=\"2\" style=\"fill:#000\" class=\"net_7 width_1\"/><line x1=\"53\" x2=\"85\" y1=\"137.5\" y2=\"137.5\" class=\"net_7 width_1\" style=\"stroke-width: 1\"/><line x1=\"43\" x2=\"133\" y1=\"182.5\" y2=\"182.5\" class=\"net_7 width_1\" style=\"stroke-width: 1\"/><line x1=\"133\" x2=\"133\" y1=\"182.5\" y2=\"117.5\" class=\"net_7 width_1\" style=\"stroke-width: 1\"/><line x1=\"133\" x2=\"165\" y1=\"117.5\" y2=\"117.5\" class=\"net_7 width_1\" style=\"stroke-width: 1\"/><line x1=\"115\" x2=\"133\" y1=\"32\" y2=\"32\" class=\"net_2 width_1\" style=\"stroke-width: 1\"/><line x1=\"133\" x2=\"133\" y1=\"32\" y2=\"77.5\" class=\"net_2 width_1\" style=\"stroke-width: 1\"/><line x1=\"133\" x2=\"165\" y1=\"77.5\" y2=\"77.5\" class=\"net_2 width_1\" style=\"stroke-width: 1\"/><line x1=\"116\" x2=\"165\" y1=\"97.5\" y2=\"97.5\" class=\"net_6 width_1\" style=\"stroke-width: 1\"/><line x1=\"196\" x2=\"238\" y1=\"77.5\" y2=\"77.5\" class=\"net_5 width_1\" style=\"stroke-width: 1\"/></svg>"
          },
          "metadata": {}
        }
      ]
    },
    {
      "cell_type": "code",
      "source": [
        "%%verilog \n",
        "// porta BASE\n",
        "module mux(input x,y,z, output f);\n",
        "  assign f = x ? y: z; // f = x & y | ~x & z;\n",
        "endmodule\n",
        "\n",
        "// Porta ALVO\n",
        "module and3(input a,b,c, output f);\n",
        "  assign f = a & b & c;\n",
        "endmodule\n",
        "\n",
        "// SOLUCAO usando só portas MUX\n",
        "module AND3(input a,b,c, output f);\n",
        "wire W1;\n",
        "  mux G1(b,c,0,W1);\n",
        "  mux G2(a,W1,0,f);\n",
        "endmodule\n",
        "\n",
        "// Verificacao\n",
        "module logic_testbench();\n",
        "reg [2:0] counter;\n",
        "wire And3,Nova;\n",
        "wire a,b,c;\n",
        "integer k;\n",
        "\n",
        "assign a = counter[2];\n",
        "assign b = counter[1];\n",
        "assign c = counter[0];\n",
        "\n",
        "\n",
        "\n",
        "and3 G1(a,b,c,And3);\n",
        "AND3 G2(a,b,c,Nova);\n",
        "\n",
        "\tinitial begin\n",
        "  \t$display(\"Tabela Verdade\");\n",
        "\t\t$display(\" L   abc | And3 And3_com_Mux\");\n",
        "\t\t$monitor(\"%d   %3b  | %1b       %1b \", counter, counter,  counter, And3, Nova);\n",
        "\t\tcounter = 0;\n",
        "\t\tfor (k=1; k<8; k=k+1)\n",
        "     #1 counter = k;\n",
        "\t\t$finish;\n",
        "\tend\n",
        "endmodule"
      ],
      "metadata": {
        "colab": {
          "base_uri": "https://localhost:8080/"
        },
        "id": "vj3elYbj4ZCe",
        "outputId": "73730039-f43c-4947-ebde-7fffd6b90d0f"
      },
      "execution_count": null,
      "outputs": [
        {
          "output_type": "stream",
          "name": "stdout",
          "text": [
            "Tabela Verdade\n",
            " L   abc | And3 And3_com_Mux\n",
            "0   000  | 000       0 0\n",
            "1   001  | 001       0 0\n",
            "2   010  | 010       0 0\n",
            "3   011  | 011       0 0\n",
            "4   100  | 100       0 0\n",
            "5   101  | 101       0 0\n",
            "6   110  | 110       0 0\n",
            "7   111  | 111       1 1\n",
            "\n"
          ]
        }
      ]
    },
    {
      "cell_type": "markdown",
      "source": [
        "### Parte II do Trabalho\n",
        "\n",
        "Execute a célula abaixo para fazer as portas de três usando somente 2 portas MUX. Monte o Verilog para comprovar o funcionamento."
      ],
      "metadata": {
        "id": "-xfz82kAGnYh"
      }
    },
    {
      "cell_type": "code",
      "source": [
        "#@title Gerando a parte II\n",
        "D ={}\n",
        "L = [ \"dot\",\"AndXor\", \"XorAnd\",\"OrAnd\",\"Majority\",\"Xor3\"]\n",
        "D[L[(sum(Mat)//197)%len(L)]]  = 1\n",
        "print(\"a) Faça uma porta \",L[(sum(Mat)//197)%len(L)],\" usando 2 Mux\")\n",
        "x= 2113\n",
        "while (L[(sum(Mat)//x)%len(L)] in D):\n",
        "  x = x+1 \n",
        "print(\"b) Faça uma porta \",L[(sum(Mat)//x)%len(L)],\" usando 2 Mux\")\n"
      ],
      "metadata": {
        "colab": {
          "base_uri": "https://localhost:8080/"
        },
        "cellView": "form",
        "id": "alFrDyxWG-Sd",
        "outputId": "cf1864d4-278d-409f-9a3a-56bc9e69525c"
      },
      "execution_count": null,
      "outputs": [
        {
          "output_type": "stream",
          "name": "stdout",
          "text": [
            "a) Faça uma porta  AndXor  usando 2 Mux\n",
            "b) Faça uma porta  dot  usando 2 Mux\n"
          ]
        }
      ]
    },
    {
      "cell_type": "markdown",
      "source": [
        "#### **a)**"
      ],
      "metadata": {
        "id": "h0wpHe0ZQbRF"
      }
    },
    {
      "cell_type": "markdown",
      "source": [
        "#### **b)**"
      ],
      "metadata": {
        "id": "4bxdD1Z6Qbdl"
      }
    },
    {
      "cell_type": "markdown",
      "source": [
        "## Pontos Extras\n",
        "\n",
        "Com duas portas DOT podemos fazer várias portas de 3.\n",
        "\n",
        "Execute a célula a abaixo e tente fazer os desafios:"
      ],
      "metadata": {
        "id": "aXuanf4PRQcM"
      }
    },
    {
      "cell_type": "code",
      "source": [
        "#@title Desafios\n",
        "L = [ \"Onehot\",\"AndXor\", \"XorAnd\",\"OrAnd\",\"Majority\",\"Xor3\",\"Mux\"]\n",
        "D[L[(sum(Mat)//197)%len(L)]]  = 1\n",
        "print(\"a) Faça uma porta \",L[(sum(Mat)//197)%len(L)],\" usando 2 Dot\")\n",
        "x= 2113\n",
        "while (L[(sum(Mat)//x)%len(L)] in D):\n",
        "  x = x+1 \n",
        "print(\"b) Faça uma porta \",L[(sum(Mat)//x)%len(L)],\" usando 2 Dot\")\n"
      ],
      "metadata": {
        "colab": {
          "base_uri": "https://localhost:8080/"
        },
        "cellView": "form",
        "outputId": "fea9e6b6-fdb6-409d-96fa-464ae0309e50",
        "id": "PSPehg8ERfxL"
      },
      "execution_count": null,
      "outputs": [
        {
          "output_type": "stream",
          "name": "stdout",
          "text": [
            "a) Faça uma porta  Mux  usando 2 Dot\n",
            "b) Faça uma porta  Majority  usando 2 Dot\n"
          ]
        }
      ]
    }
  ]
}