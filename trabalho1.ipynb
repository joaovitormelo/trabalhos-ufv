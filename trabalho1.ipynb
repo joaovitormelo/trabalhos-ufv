{
  "nbformat": 4,
  "nbformat_minor": 0,
  "metadata": {
    "colab": {
      "provenance": [],
      "include_colab_link": true
    },
    "kernelspec": {
      "name": "python3",
      "display_name": "Python 3"
    },
    "language_info": {
      "name": "python"
    }
  },
  "cells": [
    {
      "cell_type": "markdown",
      "metadata": {
        "id": "view-in-github",
        "colab_type": "text"
      },
      "source": [
        "<a href=\"https://colab.research.google.com/github/joaovitormelo/trabalhos-ufv/blob/main/trabalho1.ipynb\" target=\"_parent\"><img src=\"https://colab.research.google.com/assets/colab-badge.svg\" alt=\"Open In Colab\"/></a>"
      ]
    },
    {
      "cell_type": "markdown",
      "source": [
        "[assistas os vídeos de apoio se estiver com dúvidas](https://www.youtube.com/playlist?list=PLcvOyD_LMr6lXoCuJu1nT6M9yejqk4Kz6)"
      ],
      "metadata": {
        "id": "nINot1CgIrnA"
      }
    },
    {
      "cell_type": "markdown",
      "source": [
        "# Trabalho 1\n",
        "\n",
        "Com até 6 integrantes, complete a tabela com os nomes e matriculas:\n",
        "\n",
        "Nome      | Matricula\n",
        "---       |---\n",
        " 1.Thierry       |106361\n",
        " 2.João Vitor Machado      |108410\n",
        " 3.Hugo       |112684\n",
        " 4.Caio       |112711  \n",
        " 5.Pedro Paulo       |100443\n",
        " 6.João Vitor Carneiro       |112695"
      ],
      "metadata": {
        "id": "WTuYu9fICkEL"
      }
    },
    {
      "cell_type": "code",
      "source": [
        "# Digitar a lista das matriculas\n",
        "\n",
        "Mat = [106361, 108410, 112684, 112711, 100443, 112695]"
      ],
      "metadata": {
        "id": "ByVR5FblC7EI"
      },
      "execution_count": null,
      "outputs": []
    },
    {
      "cell_type": "markdown",
      "source": [
        "# Portas de 3 Entradas\n",
        "\n",
        "tabela com as funções de três entradas:\n",
        "\n",
        "![](https://github.com/arduinoufv/inf150/blob/master/aulas2023/10_portas_universais_de_3.png?raw=true)"
      ],
      "metadata": {
        "id": "ecedQCWGXCsy"
      }
    },
    {
      "cell_type": "markdown",
      "source": [
        "## Qual o mínimo de portas para montar um And2 ou um Xor2 com portas de três entradas\n",
        "\n",
        "![](https://github.com/arduinoufv/inf150/blob/master/aulas2023/portas_de2_com_portas_de_3.png?raw=true)\n",
        "\n",
        "Por exemplo, a Função $and3 = x \\& y \\& z$ pode ser usada para fazer a função $and2 = a \\& b$:\n",
        "\n",
        " fazendo $and2 = and3(a,b,1) = a \\& b \\& 1 = a \\& b$\n",
        "\n",
        " Outro exemplo é a função AndXor = $ x \\oplus y \\& z$, podemos também fazer o and2:\n",
        "\n",
        " $and2 = AndXor(0,a,b) = 0 \\oplus (a \\& b) = a \\& b$.\n",
        "\n"
      ],
      "metadata": {
        "id": "OkK42Za4a3DE"
      }
    },
    {
      "cell_type": "code",
      "source": [
        "#@title Instalando Verilog\n",
        "!pip install git+https://github.com/lesc-ufv/cad4u >& /dev/null\n",
        "!git clone https://github.com/lesc-ufv/cad4u >& /dev/null\n",
        "%load_ext plugin"
      ],
      "metadata": {
        "cellView": "form",
        "id": "5AS85SpojAfP"
      },
      "execution_count": null,
      "outputs": []
    },
    {
      "cell_type": "markdown",
      "source": [
        "## And2 usando And3\n",
        "\n",
        "$and2 = and3(a,b,1) = a \\& b \\& 1 = a \\& b$\n",
        "\n",
        "![](https://github.com/arduinoufv/inf150/blob/master/aulas2023/trabalho1/figuras/and2_com_and3.png?raw=true)\n",
        "\n",
        "Outras soluções (teste)\n",
        "\n",
        "$and2 = and3(a,b,b)$\n",
        "\n",
        "$and2 = and3(a,a,b)$\n",
        "\n",
        "$and2 = and3(1,a,b)$\n",
        "\n"
      ],
      "metadata": {
        "id": "MBiMGZHJkf8M"
      }
    },
    {
      "cell_type": "markdown",
      "source": [
        "### Mostrando o desenho da AND2 usando a and3"
      ],
      "metadata": {
        "id": "ky4TEfJkoCRo"
      }
    },
    {
      "cell_type": "code",
      "source": [
        "%%print_verilog -top AND2\n",
        "module AND2(input a,b, output f);\n",
        "  and3 G(a,b,1,f);\n",
        "endmodule\n",
        "\n",
        "module and3(input x,y,z, output f);\n",
        "  assign f = x & y & z;\n",
        "endmodule\n"
      ],
      "metadata": {
        "colab": {
          "base_uri": "https://localhost:8080/",
          "height": 240
        },
        "id": "-67x-ZWa_6sY",
        "outputId": "a640b671-245d-46bb-8c6b-aac14900ab8f"
      },
      "execution_count": null,
      "outputs": [
        {
          "output_type": "stream",
          "name": "stdout",
          "text": [
            "Installing. Please wait... done!\n",
            "/content/cad4u/verilog/yosys_command.sh AND2 code.v\n"
          ]
        },
        {
          "output_type": "display_data",
          "data": {
            "text/plain": [
              "<IPython.core.display.SVG object>"
            ],
            "image/svg+xml": "<svg xmlns=\"http://www.w3.org/2000/svg\" xmlns:xlink=\"http://www.w3.org/1999/xlink\" xmlns:s=\"https://github.com/nturley/netlistsvg\" width=\"200\" height=\"184\"><style>svg {\n  stroke:#000;\n  fill:none;\n}\ntext {\n  fill:#000;\n  stroke:none;\n  font-size:10px;\n  font-weight: bold;\n  font-family: &quot;Courier New&quot;, monospace;\n}\nline {\n    stroke-linecap: round;\n}\n.nodelabel {\n  text-anchor: middle;\n}\n.inputPortLabel {\n  text-anchor: end;\n}\n.splitjoinBody {\n  fill:#000;\n}</style><g s:type=\"generic\" transform=\"translate(85,66.5)\" s:width=\"30\" s:height=\"40\" id=\"cell_G\"><text x=\"15\" y=\"-4\" class=\"nodelabel cell_G\" s:attribute=\"ref\">and3</text><rect width=\"30\" height=\"60\" s:generic=\"body\" class=\"cell_G\"/><g transform=\"translate(0,10)\" s:x=\"0\" s:y=\"10\" s:pid=\"in0\" id=\"port_G~x\"><text x=\"-3\" y=\"-4\" class=\"inputPortLabel cell_G\">x</text></g><g transform=\"translate(0,30)\" s:x=\"0\" s:y=\"10\" s:pid=\"in0\" id=\"port_G~y\"><text x=\"-3\" y=\"-4\" class=\"inputPortLabel cell_G\">y</text></g><g transform=\"translate(0,50)\" s:x=\"0\" s:y=\"10\" s:pid=\"in0\" id=\"port_G~z\"><text x=\"-3\" y=\"-4\" class=\"inputPortLabel cell_G\">z</text></g><g transform=\"translate(30,10)\" s:x=\"30\" s:y=\"10\" s:pid=\"out0\" id=\"port_G~f\"><text x=\"5\" y=\"-4\" style=\"fill:#000; stroke:none\" class=\"cell_G\">f</text></g></g><g s:type=\"inputExt\" transform=\"translate(12,22)\" s:width=\"30\" s:height=\"20\" id=\"cell_a\"><text x=\"15\" y=\"-4\" class=\"nodelabel cell_a\" s:attribute=\"ref\">a</text><s:alias val=\"$_inputExt_\"/><path d=\"M0,0 L0,20 L15,20 L30,10 L15,0 Z\" class=\"cell_a\"/><g s:x=\"30\" s:y=\"10\" s:pid=\"Y\"/></g><g s:type=\"inputExt\" transform=\"translate(12,87)\" s:width=\"30\" s:height=\"20\" id=\"cell_b\"><text x=\"15\" y=\"-4\" class=\"nodelabel cell_b\" s:attribute=\"ref\">b</text><s:alias val=\"$_inputExt_\"/><path d=\"M0,0 L0,20 L15,20 L30,10 L15,0 Z\" class=\"cell_b\"/><g s:x=\"30\" s:y=\"10\" s:pid=\"Y\"/></g><g s:type=\"outputExt\" transform=\"translate(158,67)\" s:width=\"30\" s:height=\"20\" id=\"cell_f\"><text x=\"15\" y=\"-4\" class=\"nodelabel cell_f\" s:attribute=\"ref\">f</text><s:alias val=\"$_outputExt_\"/><path d=\"M30,0 L30,20 L15,20 L0,10 L15,0 Z\" class=\"cell_f\"/><g s:x=\"0\" s:y=\"10\" s:pid=\"A\"/></g><g s:type=\"constant\" transform=\"translate(12,152)\" s:width=\"30\" s:height=\"20\" id=\"cell_1\"><text x=\"15\" y=\"-4\" class=\"nodelabel cell_1\" s:attribute=\"ref\">1</text><s:alias val=\"$_constant_\"/><rect width=\"30\" height=\"20\" class=\"cell_1\"/><g s:x=\"31\" s:y=\"10\" s:pid=\"Y\"/></g><line x1=\"42\" x2=\"53\" y1=\"32\" y2=\"32\" class=\"net_2 width_1\" style=\"stroke-width: 1\"/><line x1=\"53\" x2=\"53\" y1=\"32\" y2=\"77\" class=\"net_2 width_1\" style=\"stroke-width: 1\"/><line x1=\"53\" x2=\"85\" y1=\"77\" y2=\"77\" class=\"net_2 width_1\" style=\"stroke-width: 1\"/><line x1=\"42\" x2=\"85\" y1=\"97\" y2=\"97\" class=\"net_3 width_1\" style=\"stroke-width: 1\"/><line x1=\"43\" x2=\"53\" y1=\"162\" y2=\"162\" class=\"net_5 width_1\" style=\"stroke-width: 1\"/><line x1=\"53\" x2=\"53\" y1=\"162\" y2=\"117\" class=\"net_5 width_1\" style=\"stroke-width: 1\"/><line x1=\"53\" x2=\"85\" y1=\"117\" y2=\"117\" class=\"net_5 width_1\" style=\"stroke-width: 1\"/><line x1=\"116\" x2=\"158\" y1=\"77\" y2=\"77\" class=\"net_4 width_1\" style=\"stroke-width: 1\"/></svg>"
          },
          "metadata": {}
        }
      ]
    },
    {
      "cell_type": "markdown",
      "source": [
        "### Código de teste\n",
        "\n",
        "Este código irá gerar todas as combinações para testar as duas versões, a porta original **and2** com a equação $a\\&b$ e a porta **AND2** que foi construída usando uma porta **and3** com a atribuição correta nas entradas, onde $x \\leftarrow a, y \\leftarrow b, z \\leftarrow 1$."
      ],
      "metadata": {
        "id": "2aBK94_eoJCn"
      }
    },
    {
      "cell_type": "code",
      "source": [
        "%%writefile verificacao.v\n",
        "// Verificacao\n",
        "module logic_testbench();\n",
        "reg [1:0] counter;\n",
        "wire And2,A2comA3;\n",
        "wire a,b;\n",
        "integer k;\n",
        "\n",
        "assign a = counter[1];\n",
        "assign b = counter[0];\n",
        "\n",
        "\n",
        "and2 G1(a,b,And2);\n",
        "AND2 G2(a,b,A2comA3);\n",
        "\n",
        "\tinitial begin\n",
        "  \t$display(\"Tabela Verdade\");\n",
        "\t\t$display(\"L   ab  | And2   AND2\");\n",
        "\t\t$monitor(\"%d   %2b  | %1b       %1b \", counter, counter, And2, A2comA3);\n",
        "\t\tcounter = 0;\n",
        "\t\tfor (k=1; k<4; k=k+1)\n",
        "     #1 counter = k;\n",
        "\t\t$finish;\n",
        "\tend\n",
        "endmodule"
      ],
      "metadata": {
        "colab": {
          "base_uri": "https://localhost:8080/"
        },
        "id": "qraqISwvlszA",
        "outputId": "f1267d60-d9a7-429d-ff06-a2cb91584a0c"
      },
      "execution_count": null,
      "outputs": [
        {
          "output_type": "stream",
          "name": "stdout",
          "text": [
            "Overwriting verificacao.v\n"
          ]
        }
      ]
    },
    {
      "cell_type": "markdown",
      "source": [
        "### Código que **implementa** a AND2 com modulo da and3."
      ],
      "metadata": {
        "id": "NiZHTw8Zow5g"
      }
    },
    {
      "cell_type": "code",
      "source": [
        "%%verilog \n",
        "// porta BASE\n",
        "module and3(input x,y,z, output f);  \n",
        "  assign f = x & y & z;         //  ** AQUI é a equação da porta and3 **\n",
        "endmodule\n",
        "\n",
        "// Porta ALVO\n",
        "module and2(input a,b, output f);\n",
        "  assign f = a & b;           //  ** AQUI é a equação da porta and2 original  **\n",
        "endmodule\n",
        "\n",
        "// SOLUCAO\n",
        "module AND2(input a,b, output f); \n",
        "  and3 G(a,b,1,f);    //  ** AQUI é porta AND2 sendo construída com um modulo interno and3 **\n",
        "endmodule\n",
        "\n",
        "`include \"verificacao.v\"\n",
        "\n"
      ],
      "metadata": {
        "colab": {
          "base_uri": "https://localhost:8080/"
        },
        "id": "W92o-ChVfrqD",
        "outputId": "6af80ede-e454-404d-fe90-f15666b90620"
      },
      "execution_count": null,
      "outputs": [
        {
          "output_type": "stream",
          "name": "stdout",
          "text": [
            "Tabela Verdade\n",
            "L   ab  | And2   AND2\n",
            "0   00  | 0       0 \n",
            "1   01  | 0       0 \n",
            "2   10  | 0       0 \n",
            "3   11  | 1       1 \n",
            "\n"
          ]
        }
      ]
    },
    {
      "cell_type": "markdown",
      "source": [
        "## And2 usando AndXor\n",
        "\n",
        "$and2 = AndXor(0,a,b) = 0 \\oplus (a \\& b) = a \\& b$\n",
        "\n",
        "\n",
        "![](https://github.com/arduinoufv/inf150/blob/master/aulas2023/trabalho1/figuras/and2_com_andxor.png?raw=true)\n",
        "\n",
        "outras opções\n",
        "\n",
        "$and2 = AndXor(0,b,a) = 0 \\oplus (b \\& a) = b \\& a$\n",
        "\n",
        "\n",
        "\n"
      ],
      "metadata": {
        "id": "Kn7gJc5F9wbn"
      }
    },
    {
      "cell_type": "code",
      "source": [
        "%%print_verilog -top AND2\n",
        "module andxor(input x,y,z, output f);\n",
        "  assign f = x ^ y & z;\n",
        "endmodule\n",
        "\n",
        "// SOLUCAO\n",
        "module AND2(input a,b, output f);\n",
        "  andxor G(0,a,b,f);\n",
        "endmodule"
      ],
      "metadata": {
        "colab": {
          "base_uri": "https://localhost:8080/",
          "height": 223
        },
        "id": "S2YIL9HQAUNO",
        "outputId": "48737f24-453a-4c56-c07d-2797be165399"
      },
      "execution_count": null,
      "outputs": [
        {
          "output_type": "stream",
          "name": "stdout",
          "text": [
            "/content/cad4u/verilog/yosys_command.sh AND2 code.v\n"
          ]
        },
        {
          "output_type": "display_data",
          "data": {
            "text/plain": [
              "<IPython.core.display.SVG object>"
            ],
            "image/svg+xml": "<svg xmlns=\"http://www.w3.org/2000/svg\" xmlns:xlink=\"http://www.w3.org/1999/xlink\" xmlns:s=\"https://github.com/nturley/netlistsvg\" width=\"200\" height=\"184\"><style>svg {\n  stroke:#000;\n  fill:none;\n}\ntext {\n  fill:#000;\n  stroke:none;\n  font-size:10px;\n  font-weight: bold;\n  font-family: &quot;Courier New&quot;, monospace;\n}\nline {\n    stroke-linecap: round;\n}\n.nodelabel {\n  text-anchor: middle;\n}\n.inputPortLabel {\n  text-anchor: end;\n}\n.splitjoinBody {\n  fill:#000;\n}</style><g s:type=\"generic\" transform=\"translate(85,66.5)\" s:width=\"30\" s:height=\"40\" id=\"cell_G\"><text x=\"15\" y=\"-4\" class=\"nodelabel cell_G\" s:attribute=\"ref\">andxor</text><rect width=\"30\" height=\"60\" s:generic=\"body\" class=\"cell_G\"/><g transform=\"translate(0,10)\" s:x=\"0\" s:y=\"10\" s:pid=\"in0\" id=\"port_G~x\"><text x=\"-3\" y=\"-4\" class=\"inputPortLabel cell_G\">x</text></g><g transform=\"translate(0,30)\" s:x=\"0\" s:y=\"10\" s:pid=\"in0\" id=\"port_G~y\"><text x=\"-3\" y=\"-4\" class=\"inputPortLabel cell_G\">y</text></g><g transform=\"translate(0,50)\" s:x=\"0\" s:y=\"10\" s:pid=\"in0\" id=\"port_G~z\"><text x=\"-3\" y=\"-4\" class=\"inputPortLabel cell_G\">z</text></g><g transform=\"translate(30,10)\" s:x=\"30\" s:y=\"10\" s:pid=\"out0\" id=\"port_G~f\"><text x=\"5\" y=\"-4\" style=\"fill:#000; stroke:none\" class=\"cell_G\">f</text></g></g><g s:type=\"inputExt\" transform=\"translate(12,87)\" s:width=\"30\" s:height=\"20\" id=\"cell_a\"><text x=\"15\" y=\"-4\" class=\"nodelabel cell_a\" s:attribute=\"ref\">a</text><s:alias val=\"$_inputExt_\"/><path d=\"M0,0 L0,20 L15,20 L30,10 L15,0 Z\" class=\"cell_a\"/><g s:x=\"30\" s:y=\"10\" s:pid=\"Y\"/></g><g s:type=\"inputExt\" transform=\"translate(12,152)\" s:width=\"30\" s:height=\"20\" id=\"cell_b\"><text x=\"15\" y=\"-4\" class=\"nodelabel cell_b\" s:attribute=\"ref\">b</text><s:alias val=\"$_inputExt_\"/><path d=\"M0,0 L0,20 L15,20 L30,10 L15,0 Z\" class=\"cell_b\"/><g s:x=\"30\" s:y=\"10\" s:pid=\"Y\"/></g><g s:type=\"outputExt\" transform=\"translate(158,67)\" s:width=\"30\" s:height=\"20\" id=\"cell_f\"><text x=\"15\" y=\"-4\" class=\"nodelabel cell_f\" s:attribute=\"ref\">f</text><s:alias val=\"$_outputExt_\"/><path d=\"M30,0 L30,20 L15,20 L0,10 L15,0 Z\" class=\"cell_f\"/><g s:x=\"0\" s:y=\"10\" s:pid=\"A\"/></g><g s:type=\"constant\" transform=\"translate(12,22)\" s:width=\"30\" s:height=\"20\" id=\"cell_0\"><text x=\"15\" y=\"-4\" class=\"nodelabel cell_0\" s:attribute=\"ref\">0</text><s:alias val=\"$_constant_\"/><rect width=\"30\" height=\"20\" class=\"cell_0\"/><g s:x=\"31\" s:y=\"10\" s:pid=\"Y\"/></g><line x1=\"43\" x2=\"53\" y1=\"32\" y2=\"32\" class=\"net_5 width_1\" style=\"stroke-width: 1\"/><line x1=\"53\" x2=\"53\" y1=\"32\" y2=\"77\" class=\"net_5 width_1\" style=\"stroke-width: 1\"/><line x1=\"53\" x2=\"85\" y1=\"77\" y2=\"77\" class=\"net_5 width_1\" style=\"stroke-width: 1\"/><line x1=\"42\" x2=\"85\" y1=\"97\" y2=\"97\" class=\"net_2 width_1\" style=\"stroke-width: 1\"/><line x1=\"42\" x2=\"53\" y1=\"162\" y2=\"162\" class=\"net_3 width_1\" style=\"stroke-width: 1\"/><line x1=\"53\" x2=\"53\" y1=\"162\" y2=\"117\" class=\"net_3 width_1\" style=\"stroke-width: 1\"/><line x1=\"53\" x2=\"85\" y1=\"117\" y2=\"117\" class=\"net_3 width_1\" style=\"stroke-width: 1\"/><line x1=\"116\" x2=\"158\" y1=\"77\" y2=\"77\" class=\"net_4 width_1\" style=\"stroke-width: 1\"/></svg>"
          },
          "metadata": {}
        }
      ]
    },
    {
      "cell_type": "code",
      "source": [
        "%%verilog \n",
        "// porta BASE\n",
        "module andxor(input x,y,z, output f);\n",
        "  assign f = x ^ y & z;  //  ** AQUI é a equação da porta andxor **\n",
        "endmodule\n",
        "\n",
        "// Porta ALVO\n",
        "module and2(input a,b, output f);\n",
        "  assign f = a & b;    //  ** AQUI é a equação da porta and2 original  **\n",
        "endmodule\n",
        "\n",
        "// SOLUCAO\n",
        "module AND2(input a,b, output f);\n",
        "  andxor G(0,b,a,f);    //  ** AQUI é porta AND2 sendo construída com um modulo interno andxor **\n",
        "endmodule\n",
        "\n",
        "`include \"verificacao.v\""
      ],
      "metadata": {
        "colab": {
          "base_uri": "https://localhost:8080/"
        },
        "outputId": "013120d7-7763-4543-83b1-0c9dd853cc93",
        "id": "VHOe42sQ9wbn"
      },
      "execution_count": null,
      "outputs": [
        {
          "output_type": "stream",
          "name": "stdout",
          "text": [
            "Tabela Verdade\n",
            "L   ab  | And2   AND2\n",
            "0   00  | 0       0 \n",
            "1   01  | 0       0 \n",
            "2   10  | 0       0 \n",
            "3   11  | 1       1 \n",
            "\n"
          ]
        }
      ]
    },
    {
      "cell_type": "markdown",
      "source": [
        "## Parte 1 do Trabalho\n",
        "\n",
        "Para o seu grupo, executa a célula abaixo para saber quais as portas terá que fazer. \n",
        "\n",
        "1. Gera uma célula texto com as explicações de como chegou na combinação de argumentos\n",
        "\n",
        "2. Faça o código verilog para mostrar que funciona."
      ],
      "metadata": {
        "id": "q_qrvl_vDQ7Q"
      }
    },
    {
      "cell_type": "code",
      "source": [
        "#@title Gerando a parte I - Tem que **EXECUTAR ESTA CÉLULA !!!**\n",
        "L = [ \"dot\",\"onehot\",\"Mux\",\"XorAnd\",\"Gamble\",\"OrAnd\",\"Majority\"]\n",
        "\n",
        "D = {}\n",
        "print(\"a) Faça uma porta and2 usando somente uma porta \",L[(sum(Mat)//197)%len(L)])\n",
        "D[L[(sum(Mat)//197)%len(L)]] = 1\n",
        "x=157\n",
        "while (L[(sum(Mat)//x)%len(L)] in D):\n",
        "  x = x+1 \n",
        "D[L[(sum(Mat)//x)%len(L)]]  = 1\n",
        "print(\"b) Faça uma porta and2 usando somente uma porta \",L[(sum(Mat)//x)%len(L)])\n",
        "x= 137\n",
        "while (L[(sum(Mat)//x)%len(L)] in D):\n",
        "  x = x+1 \n",
        "D[L[(sum(Mat)//x)%len(L)]]  = 1\n",
        "print(\"c) Faça uma porta and2 usando somente uma porta \",L[(sum(Mat)//x)%len(L)])\n",
        "x= 487\n",
        "while (L[(sum(Mat)//x)%5] in D):\n",
        "  x = x+1 \n",
        "print(\"d) Faça uma porta xor2 usando somente uma porta \",L[(sum(Mat)//x)%5])"
      ],
      "metadata": {
        "colab": {
          "base_uri": "https://localhost:8080/"
        },
        "id": "zD626wupDc_n",
        "outputId": "ad18f1b5-d44d-4c44-dafc-c91f876eddbb",
        "cellView": "form"
      },
      "execution_count": null,
      "outputs": [
        {
          "output_type": "stream",
          "name": "stdout",
          "text": [
            "a) Faça uma porta and2 usando somente uma porta  OrAnd\n",
            "b) Faça uma porta and2 usando somente uma porta  XorAnd\n",
            "c) Faça uma porta and2 usando somente uma porta  onehot\n",
            "d) Faça uma porta xor2 usando somente uma porta  dot\n"
          ]
        }
      ]
    },
    {
      "cell_type": "markdown",
      "source": [
        "### Material de apoio\n",
        "\n",
        "[esboço dos desenhos no excalidraw](https://excalidraw.com/#json=AYXdp9PN6-saSNvcizvFx,8fIfOYrj8qde4r5fROT-WQ)"
      ],
      "metadata": {
        "id": "ursKxtF_uGc8"
      }
    },
    {
      "cell_type": "markdown",
      "source": [
        "### **a)** porta and2 usando somente uma porta  Majority\n",
        "\n",
        "digitar as explicações ...\n"
      ],
      "metadata": {
        "id": "oZvneOnlFutE"
      }
    },
    {
      "cell_type": "code",
      "source": [
        "%%verilog \n",
        "// porta BASE\n",
        "module maj(input x,y,z, output f);\n",
        "  assign f = x & z | x & y | y & z;  //  ** AQUI é a equação da porta maj, sua porta pode ser outra... **\n",
        "endmodule\n",
        "\n",
        "// Porta ALVO\n",
        "module and2(input a,b, output f);\n",
        "  assign f = a & b;    //  ** AQUI é a equação da porta and2 original  **\n",
        "endmodule\n",
        "\n",
        "// SOLUCAO\n",
        "module AND2(input a,b, output f);\n",
        "  maj G( , , ,f);    //  ** AQUI é porta AND2 sendo construída com um modulo interno maj **\n",
        "endmodule\n",
        "\n",
        "`include \"verificacao.v\""
      ],
      "metadata": {
        "id": "4NAtZbdQuXkL"
      },
      "execution_count": null,
      "outputs": []
    },
    {
      "cell_type": "markdown",
      "source": [
        "### **b)**"
      ],
      "metadata": {
        "id": "KwxSG4TmGdhy"
      }
    },
    {
      "cell_type": "markdown",
      "source": [
        "### **c)**"
      ],
      "metadata": {
        "id": "M6CCnaUXGdsg"
      }
    },
    {
      "cell_type": "markdown",
      "source": [
        "### **d)**"
      ],
      "metadata": {
        "id": "GAzwl-2pGd1x"
      }
    },
    {
      "cell_type": "code",
      "source": [
        "%%writefile verificacao_xor2.v\n",
        "// Verificacao\n",
        "module logic_testbench();\n",
        "reg [1:0] counter;\n",
        "wire xor2,Xor2;\n",
        "wire a,b;\n",
        "integer k;\n",
        "\n",
        "assign a = counter[1];\n",
        "assign b = counter[0];\n",
        "\n",
        "\n",
        "xor2 G1(a,b,xor2);\n",
        "XOR2 G2(a,b,Xor2);\n",
        "\n",
        "\tinitial begin\n",
        "  \t$display(\"Tabela Verdade\");\n",
        "\t\t$display(\"L   ab  | Xor2   XOR2\");\n",
        "\t\t$monitor(\"%d   %2b  | %1b       %1b \", counter, counter, xor2, Xor2);\n",
        "\t\tcounter = 0;\n",
        "\t\tfor (k=1; k<4; k=k+1)\n",
        "     #1 counter = k;\n",
        "\t\t$finish;\n",
        "\tend\n",
        "endmodule"
      ],
      "metadata": {
        "colab": {
          "base_uri": "https://localhost:8080/"
        },
        "outputId": "c1bc3c22-c510-4b04-b70b-c62c99f00f56",
        "id": "3so0flDcu0eP"
      },
      "execution_count": null,
      "outputs": [
        {
          "output_type": "stream",
          "name": "stdout",
          "text": [
            "Overwriting verificacao_xor2.v\n"
          ]
        }
      ]
    },
    {
      "cell_type": "code",
      "source": [
        "%%verilog \n",
        "// porta BASE\n",
        "module gamble(input x,y,z, output f);\n",
        "  assign f = (x & y & z) ^ (~x & ~y & ~z) ;  //  ** AQUI é a equação da porta gamble sua porta pode ser outra... **\n",
        "endmodule\n",
        "\n",
        "// Porta ALVO\n",
        "module xor2(input a,b, output f);\n",
        "  assign f = a ^ b;    //  ** AQUI é a equação da porta xor2 original  **\n",
        "endmodule\n",
        "\n",
        "// SOLUCAO\n",
        "module XOR2(input a,b, output f);\n",
        "  gamble G(   );   // PREENCHER....\n",
        "endmodule\n",
        "\n",
        "`include \"verificacao_xor2.v\""
      ],
      "metadata": {
        "colab": {
          "base_uri": "https://localhost:8080/"
        },
        "id": "SqRgsoMovHt9",
        "outputId": "be56c756-ec6d-4f44-aaf4-f6706f970411"
      },
      "execution_count": null,
      "outputs": [
        {
          "output_type": "stream",
          "name": "stdout",
          "text": [
            "Tabela Verdade\n",
            "L   ab  | Xor2   XOR2\n",
            "0   00  | 0       0 \n",
            "1   01  | 1       1 \n",
            "2   10  | 1       1 \n",
            "3   11  | 0       0 \n",
            "\n"
          ]
        }
      ]
    },
    {
      "cell_type": "markdown",
      "source": [
        "## Portas de 3 para fazer portas de 3\n",
        "\n",
        "![](https://github.com/arduinoufv/inf150/blob/master/aulas2023/portas_3_com_portas_de_3.png?raw=true)"
      ],
      "metadata": {
        "id": "qoyHaxYsh9U3"
      }
    },
    {
      "cell_type": "code",
      "source": [
        "#@title Instalando visualização grafos\n",
        "!apt install -y graphviz &> /dev/null\n",
        "!pip install graphviz &> /dev/null"
      ],
      "metadata": {
        "id": "eKxkNrsKAuQk"
      },
      "execution_count": null,
      "outputs": []
    },
    {
      "cell_type": "markdown",
      "source": [
        "## Porta Multiplexador\n",
        "\n",
        "\n",
        "Podemos fazer qualquer função com 7 portas multiplexador no formato de arvore. Basta colocar valores nas entradas\n",
        "\n",
        "![](https://2.bp.blogspot.com/-WrtBvWKZLrQ/V2v-PoHCxnI/AAAAAAAAAas/Sv4V7j4W2p4bvgGGrvYpXoSBpqphGtsHgCK4B/s640/8x1%2Bmux%2Bstructure.png)\n",
        "\n"
      ],
      "metadata": {
        "id": "BoB_f-CG1CQC"
      }
    },
    {
      "cell_type": "markdown",
      "source": [
        "### Exemplo porta And3 $f= x \\& y \\& z$\n",
        "\n",
        "Abaixo como fazer a porta And3. Começamos com todos os valores da função. \n",
        "\n",
        "Depois simplificamos os mux com entradas iguais.\n",
        "\n",
        "Depois simplificamos o mux do primeiro nivel pela variável.\n",
        "\n",
        "![](https://github.com/arduinoufv/inf150/blob/master/aulas2023/and3_com_mux.png?raw=true)"
      ],
      "metadata": {
        "id": "dMnH1TYz1fr7"
      }
    },
    {
      "cell_type": "code",
      "source": [
        "%%print_verilog -top AND3\n",
        "// porta BASE\n",
        "module mux(input x,y,z, output f);\n",
        "  assign f = x ? y: z; // f = x & y | ~x & z;\n",
        "endmodule\n",
        "\n",
        "// SOLUCAO\n",
        "module AND3(input a,b,c, output f);\n",
        "wire W1;\n",
        "  mux G1(b,c,0,W1);\n",
        "  mux G2(a,W1,0,f);\n",
        "endmodule"
      ],
      "metadata": {
        "colab": {
          "base_uri": "https://localhost:8080/",
          "height": 243
        },
        "id": "E08oQWxpBCZY",
        "outputId": "3a88a94e-da91-41f4-f451-9e6752057dbf"
      },
      "execution_count": null,
      "outputs": [
        {
          "output_type": "stream",
          "name": "stdout",
          "text": [
            "/content/cad4u/verilog/yosys_command.sh Mux code.v\n"
          ]
        },
        {
          "output_type": "display_data",
          "data": {
            "text/plain": [
              "<IPython.core.display.SVG object>"
            ],
            "image/svg+xml": "<svg xmlns=\"http://www.w3.org/2000/svg\" xmlns:xlink=\"http://www.w3.org/1999/xlink\" xmlns:s=\"https://github.com/nturley/netlistsvg\" width=\"280\" height=\"204.5\"><style>svg {\n  stroke:#000;\n  fill:none;\n}\ntext {\n  fill:#000;\n  stroke:none;\n  font-size:10px;\n  font-weight: bold;\n  font-family: &quot;Courier New&quot;, monospace;\n}\nline {\n    stroke-linecap: round;\n}\n.nodelabel {\n  text-anchor: middle;\n}\n.inputPortLabel {\n  text-anchor: end;\n}\n.splitjoinBody {\n  fill:#000;\n}</style><g s:type=\"generic\" transform=\"translate(85,87)\" s:width=\"30\" s:height=\"40\" id=\"cell_G1\"><text x=\"15\" y=\"-4\" class=\"nodelabel cell_G1\" s:attribute=\"ref\">mux</text><rect width=\"30\" height=\"60\" s:generic=\"body\" class=\"cell_G1\"/><g transform=\"translate(0,10)\" s:x=\"0\" s:y=\"10\" s:pid=\"in0\" id=\"port_G1~x\"><text x=\"-3\" y=\"-4\" class=\"inputPortLabel cell_G1\">x</text></g><g transform=\"translate(0,30)\" s:x=\"0\" s:y=\"10\" s:pid=\"in0\" id=\"port_G1~y\"><text x=\"-3\" y=\"-4\" class=\"inputPortLabel cell_G1\">y</text></g><g transform=\"translate(0,50)\" s:x=\"0\" s:y=\"10\" s:pid=\"in0\" id=\"port_G1~z\"><text x=\"-3\" y=\"-4\" class=\"inputPortLabel cell_G1\">z</text></g><g transform=\"translate(30,10)\" s:x=\"30\" s:y=\"10\" s:pid=\"out0\" id=\"port_G1~f\"><text x=\"5\" y=\"-4\" style=\"fill:#000; stroke:none\" class=\"cell_G1\">f</text></g></g><g s:type=\"generic\" transform=\"translate(165,67)\" s:width=\"30\" s:height=\"40\" id=\"cell_G2\"><text x=\"15\" y=\"-4\" class=\"nodelabel cell_G2\" s:attribute=\"ref\">mux</text><rect width=\"30\" height=\"60\" s:generic=\"body\" class=\"cell_G2\"/><g transform=\"translate(0,10)\" s:x=\"0\" s:y=\"10\" s:pid=\"in0\" id=\"port_G2~x\"><text x=\"-3\" y=\"-4\" class=\"inputPortLabel cell_G2\">x</text></g><g transform=\"translate(0,30)\" s:x=\"0\" s:y=\"10\" s:pid=\"in0\" id=\"port_G2~y\"><text x=\"-3\" y=\"-4\" class=\"inputPortLabel cell_G2\">y</text></g><g transform=\"translate(0,50)\" s:x=\"0\" s:y=\"10\" s:pid=\"in0\" id=\"port_G2~z\"><text x=\"-3\" y=\"-4\" class=\"inputPortLabel cell_G2\">z</text></g><g transform=\"translate(30,10)\" s:x=\"30\" s:y=\"10\" s:pid=\"out0\" id=\"port_G2~f\"><text x=\"5\" y=\"-4\" style=\"fill:#000; stroke:none\" class=\"cell_G2\">f</text></g></g><g s:type=\"inputExt\" transform=\"translate(85,22)\" s:width=\"30\" s:height=\"20\" id=\"cell_a\"><text x=\"15\" y=\"-4\" class=\"nodelabel cell_a\" s:attribute=\"ref\">a</text><s:alias val=\"$_inputExt_\"/><path d=\"M0,0 L0,20 L15,20 L30,10 L15,0 Z\" class=\"cell_a\"/><g s:x=\"30\" s:y=\"10\" s:pid=\"Y\"/></g><g s:type=\"inputExt\" transform=\"translate(12,42.5)\" s:width=\"30\" s:height=\"20\" id=\"cell_b\"><text x=\"15\" y=\"-4\" class=\"nodelabel cell_b\" s:attribute=\"ref\">b</text><s:alias val=\"$_inputExt_\"/><path d=\"M0,0 L0,20 L15,20 L30,10 L15,0 Z\" class=\"cell_b\"/><g s:x=\"30\" s:y=\"10\" s:pid=\"Y\"/></g><g s:type=\"inputExt\" transform=\"translate(12,107.5)\" s:width=\"30\" s:height=\"20\" id=\"cell_c\"><text x=\"15\" y=\"-4\" class=\"nodelabel cell_c\" s:attribute=\"ref\">c</text><s:alias val=\"$_inputExt_\"/><path d=\"M0,0 L0,20 L15,20 L30,10 L15,0 Z\" class=\"cell_c\"/><g s:x=\"30\" s:y=\"10\" s:pid=\"Y\"/></g><g s:type=\"outputExt\" transform=\"translate(238,67.5)\" s:width=\"30\" s:height=\"20\" id=\"cell_f\"><text x=\"15\" y=\"-4\" class=\"nodelabel cell_f\" s:attribute=\"ref\">f</text><s:alias val=\"$_outputExt_\"/><path d=\"M30,0 L30,20 L15,20 L0,10 L15,0 Z\" class=\"cell_f\"/><g s:x=\"0\" s:y=\"10\" s:pid=\"A\"/></g><g s:type=\"constant\" transform=\"translate(12,172.5)\" s:width=\"30\" s:height=\"20\" id=\"cell_0\"><text x=\"15\" y=\"-4\" class=\"nodelabel cell_0\" s:attribute=\"ref\">0</text><s:alias val=\"$_constant_\"/><rect width=\"30\" height=\"20\" class=\"cell_0\"/><g s:x=\"31\" s:y=\"10\" s:pid=\"Y\"/></g><line x1=\"42\" x2=\"53\" y1=\"52.5\" y2=\"52.5\" class=\"net_3 width_1\" style=\"stroke-width: 1\"/><line x1=\"53\" x2=\"53\" y1=\"52.5\" y2=\"97.5\" class=\"net_3 width_1\" style=\"stroke-width: 1\"/><line x1=\"53\" x2=\"85\" y1=\"97.5\" y2=\"97.5\" class=\"net_3 width_1\" style=\"stroke-width: 1\"/><line x1=\"42\" x2=\"85\" y1=\"117.5\" y2=\"117.5\" class=\"net_4 width_1\" style=\"stroke-width: 1\"/><line x1=\"43\" x2=\"53\" y1=\"182.5\" y2=\"182.5\" class=\"net_7 width_1\" style=\"stroke-width: 1\"/><line x1=\"53\" x2=\"53\" y1=\"182.5\" y2=\"137.5\" class=\"net_7 width_1\" style=\"stroke-width: 1\"/><circle cx=\"53\" cy=\"182.5\" r=\"2\" style=\"fill:#000\" class=\"net_7 width_1\"/><line x1=\"53\" x2=\"85\" y1=\"137.5\" y2=\"137.5\" class=\"net_7 width_1\" style=\"stroke-width: 1\"/><line x1=\"43\" x2=\"133\" y1=\"182.5\" y2=\"182.5\" class=\"net_7 width_1\" style=\"stroke-width: 1\"/><line x1=\"133\" x2=\"133\" y1=\"182.5\" y2=\"117.5\" class=\"net_7 width_1\" style=\"stroke-width: 1\"/><line x1=\"133\" x2=\"165\" y1=\"117.5\" y2=\"117.5\" class=\"net_7 width_1\" style=\"stroke-width: 1\"/><line x1=\"115\" x2=\"133\" y1=\"32\" y2=\"32\" class=\"net_2 width_1\" style=\"stroke-width: 1\"/><line x1=\"133\" x2=\"133\" y1=\"32\" y2=\"77.5\" class=\"net_2 width_1\" style=\"stroke-width: 1\"/><line x1=\"133\" x2=\"165\" y1=\"77.5\" y2=\"77.5\" class=\"net_2 width_1\" style=\"stroke-width: 1\"/><line x1=\"116\" x2=\"165\" y1=\"97.5\" y2=\"97.5\" class=\"net_6 width_1\" style=\"stroke-width: 1\"/><line x1=\"196\" x2=\"238\" y1=\"77.5\" y2=\"77.5\" class=\"net_5 width_1\" style=\"stroke-width: 1\"/></svg>"
          },
          "metadata": {}
        }
      ]
    },
    {
      "cell_type": "code",
      "source": [
        "%%verilog \n",
        "// porta BASE\n",
        "module mux(input x,y,z, output f);\n",
        "  assign f = x ? y: z; // f = x & y | ~x & z;\n",
        "endmodule\n",
        "\n",
        "// Porta ALVO\n",
        "module and3(input a,b,c, output f);\n",
        "  assign f = a & b & c;\n",
        "endmodule\n",
        "\n",
        "// SOLUCAO usando só portas MUX\n",
        "module AND3(input a,b,c, output f);\n",
        "wire W1;\n",
        "  mux G1(b,c,0,W1);\n",
        "  mux G2(a,W1,0,f);\n",
        "endmodule\n",
        "\n",
        "// Verificacao\n",
        "module logic_testbench();\n",
        "reg [2:0] counter;\n",
        "wire And3,Nova;\n",
        "wire a,b,c;\n",
        "integer k;\n",
        "\n",
        "assign a = counter[2];\n",
        "assign b = counter[1];\n",
        "assign c = counter[0];\n",
        "\n",
        "\n",
        "\n",
        "and3 G1(a,b,c,And3);\n",
        "AND3 G2(a,b,c,Nova);\n",
        "\n",
        "\tinitial begin\n",
        "  \t$display(\"Tabela Verdade\");\n",
        "\t\t$display(\" L   abc | And3 And3_com_Mux\");\n",
        "\t\t$monitor(\"%d   %3b  | %1b       %1b \", counter, counter,  counter, And3, Nova);\n",
        "\t\tcounter = 0;\n",
        "\t\tfor (k=1; k<8; k=k+1)\n",
        "     #1 counter = k;\n",
        "\t\t$finish;\n",
        "\tend\n",
        "endmodule"
      ],
      "metadata": {
        "colab": {
          "base_uri": "https://localhost:8080/"
        },
        "id": "vj3elYbj4ZCe",
        "outputId": "73730039-f43c-4947-ebde-7fffd6b90d0f"
      },
      "execution_count": null,
      "outputs": [
        {
          "output_type": "stream",
          "name": "stdout",
          "text": [
            "Tabela Verdade\n",
            " L   abc | And3 And3_com_Mux\n",
            "0   000  | 000       0 0\n",
            "1   001  | 001       0 0\n",
            "2   010  | 010       0 0\n",
            "3   011  | 011       0 0\n",
            "4   100  | 100       0 0\n",
            "5   101  | 101       0 0\n",
            "6   110  | 110       0 0\n",
            "7   111  | 111       1 1\n",
            "\n"
          ]
        }
      ]
    },
    {
      "cell_type": "code",
      "source": [
        "#@title Esboço de uma árvore de MUX\n",
        "dot_graph = \"\"\"\n",
        "digraph G {\n",
        "{rank=same; l0;l1;l2;l3;l4;l5;l6;l7}\n",
        "{rank=same; z0; z1; z2; z3}\n",
        "{rank=same; y0; y1}\n",
        "z0 [shape=\"invtrapezium\"]\n",
        "z1 [shape=\"invtrapezium\"]\n",
        "z2 [shape=\"invtrapezium\"]\n",
        "z3 [shape=\"invtrapezium\"]\n",
        "y0 [shape=\"invtrapezium\"]\n",
        "y1 [shape=\"invtrapezium\"]\n",
        "x [shape=\"invtrapezium\"]\n",
        "\n",
        "l0 -> z0\n",
        "l1 -> z0 [style=bold]\n",
        "l2 -> z1\n",
        "l3 -> z1 [style=bold]\n",
        "l4 -> z2\n",
        "l5 -> z2 [style=bold]\n",
        "l6 -> z3\n",
        "l7 -> z3 [style=bold]\n",
        "z0 -> y0\n",
        "z1 -> y0 [style=bold]\n",
        "z2 -> y1\n",
        "z3 -> y1 [style=bold]\n",
        "y0 -> x\n",
        "y1 -> x [style=bold]\n",
        "\n",
        "\n",
        "\n",
        " }\n",
        " \"\"\"\n",
        "\n",
        "from graphviz import Source\n",
        "from IPython.display import SVG\n",
        "\n",
        "graph = Source(dot_graph)\n",
        "SVG(graph.pipe(format='svg'))"
      ],
      "metadata": {
        "colab": {
          "base_uri": "https://localhost:8080/",
          "height": 368
        },
        "id": "AG1Px2UCRaci",
        "outputId": "392f13cd-cfb9-4984-fbcd-f354a6c8b989",
        "cellView": "form"
      },
      "execution_count": null,
      "outputs": [
        {
          "output_type": "execute_result",
          "data": {
            "text/plain": [
              "<IPython.core.display.SVG object>"
            ],
            "image/svg+xml": "<svg xmlns=\"http://www.w3.org/2000/svg\" xmlns:xlink=\"http://www.w3.org/1999/xlink\" width=\"566pt\" height=\"260pt\" viewBox=\"0.00 0.00 566.00 260.00\">\n<g id=\"graph0\" class=\"graph\" transform=\"scale(1 1) rotate(0) translate(4 256)\">\n<title>G</title>\n<polygon fill=\"white\" stroke=\"transparent\" points=\"-4,4 -4,-256 562,-256 562,4 -4,4\"/>\n<!-- l0 -->\n<g id=\"node1\" class=\"node\">\n<title>l0</title>\n<ellipse fill=\"none\" stroke=\"black\" cx=\"27\" cy=\"-234\" rx=\"27\" ry=\"18\"/>\n<text text-anchor=\"middle\" x=\"27\" y=\"-230.3\" font-family=\"Times,serif\" font-size=\"14.00\">l0</text>\n</g>\n<!-- z0 -->\n<g id=\"node9\" class=\"node\">\n<title>z0</title>\n<polygon fill=\"none\" stroke=\"black\" points=\"83.23,-144 114.77,-144 126,-180 72,-180 83.23,-144\"/>\n<text text-anchor=\"middle\" x=\"99\" y=\"-158.3\" font-family=\"Times,serif\" font-size=\"14.00\">z0</text>\n</g>\n<!-- l0&#45;&gt;z0 -->\n<g id=\"edge1\" class=\"edge\">\n<title>l0-&gt;z0</title>\n<path fill=\"none\" stroke=\"black\" d=\"M41.57,-218.83C50.92,-209.75 63.3,-197.71 74.17,-187.14\"/>\n<polygon fill=\"black\" stroke=\"black\" points=\"76.67,-189.59 81.4,-180.11 71.79,-184.57 76.67,-189.59\"/>\n</g>\n<!-- l1 -->\n<g id=\"node2\" class=\"node\">\n<title>l1</title>\n<ellipse fill=\"none\" stroke=\"black\" cx=\"99\" cy=\"-234\" rx=\"27\" ry=\"18\"/>\n<text text-anchor=\"middle\" x=\"99\" y=\"-230.3\" font-family=\"Times,serif\" font-size=\"14.00\">l1</text>\n</g>\n<!-- l1&#45;&gt;z0 -->\n<g id=\"edge2\" class=\"edge\">\n<title>l1-&gt;z0</title>\n<path fill=\"none\" stroke=\"black\" stroke-width=\"2\" d=\"M99,-215.7C99,-207.98 99,-198.71 99,-190.11\"/>\n<polygon fill=\"black\" stroke=\"black\" stroke-width=\"2\" points=\"102.5,-190.1 99,-180.1 95.5,-190.1 102.5,-190.1\"/>\n</g>\n<!-- l2 -->\n<g id=\"node3\" class=\"node\">\n<title>l2</title>\n<ellipse fill=\"none\" stroke=\"black\" cx=\"171\" cy=\"-234\" rx=\"27\" ry=\"18\"/>\n<text text-anchor=\"middle\" x=\"171\" y=\"-230.3\" font-family=\"Times,serif\" font-size=\"14.00\">l2</text>\n</g>\n<!-- z1 -->\n<g id=\"node10\" class=\"node\">\n<title>z1</title>\n<polygon fill=\"none\" stroke=\"black\" points=\"191.23,-144 222.77,-144 234,-180 180,-180 191.23,-144\"/>\n<text text-anchor=\"middle\" x=\"207\" y=\"-158.3\" font-family=\"Times,serif\" font-size=\"14.00\">z1</text>\n</g>\n<!-- l2&#45;&gt;z1 -->\n<g id=\"edge3\" class=\"edge\">\n<title>l2-&gt;z1</title>\n<path fill=\"none\" stroke=\"black\" d=\"M179.35,-216.76C183.54,-208.61 188.73,-198.53 193.47,-189.31\"/>\n<polygon fill=\"black\" stroke=\"black\" points=\"196.73,-190.62 198.19,-180.12 190.51,-187.42 196.73,-190.62\"/>\n</g>\n<!-- l3 -->\n<g id=\"node4\" class=\"node\">\n<title>l3</title>\n<ellipse fill=\"none\" stroke=\"black\" cx=\"243\" cy=\"-234\" rx=\"27\" ry=\"18\"/>\n<text text-anchor=\"middle\" x=\"243\" y=\"-230.3\" font-family=\"Times,serif\" font-size=\"14.00\">l3</text>\n</g>\n<!-- l3&#45;&gt;z1 -->\n<g id=\"edge4\" class=\"edge\">\n<title>l3-&gt;z1</title>\n<path fill=\"none\" stroke=\"black\" stroke-width=\"2\" d=\"M234.65,-216.76C230.46,-208.61 225.27,-198.53 220.53,-189.31\"/>\n<polygon fill=\"black\" stroke=\"black\" stroke-width=\"2\" points=\"223.49,-187.42 215.81,-180.12 217.27,-190.62 223.49,-187.42\"/>\n</g>\n<!-- l4 -->\n<g id=\"node5\" class=\"node\">\n<title>l4</title>\n<ellipse fill=\"none\" stroke=\"black\" cx=\"315\" cy=\"-234\" rx=\"27\" ry=\"18\"/>\n<text text-anchor=\"middle\" x=\"315\" y=\"-230.3\" font-family=\"Times,serif\" font-size=\"14.00\">l4</text>\n</g>\n<!-- z2 -->\n<g id=\"node11\" class=\"node\">\n<title>z2</title>\n<polygon fill=\"none\" stroke=\"black\" points=\"335.23,-144 366.77,-144 378,-180 324,-180 335.23,-144\"/>\n<text text-anchor=\"middle\" x=\"351\" y=\"-158.3\" font-family=\"Times,serif\" font-size=\"14.00\">z2</text>\n</g>\n<!-- l4&#45;&gt;z2 -->\n<g id=\"edge5\" class=\"edge\">\n<title>l4-&gt;z2</title>\n<path fill=\"none\" stroke=\"black\" d=\"M323.35,-216.76C327.54,-208.61 332.73,-198.53 337.47,-189.31\"/>\n<polygon fill=\"black\" stroke=\"black\" points=\"340.73,-190.62 342.19,-180.12 334.51,-187.42 340.73,-190.62\"/>\n</g>\n<!-- l5 -->\n<g id=\"node6\" class=\"node\">\n<title>l5</title>\n<ellipse fill=\"none\" stroke=\"black\" cx=\"387\" cy=\"-234\" rx=\"27\" ry=\"18\"/>\n<text text-anchor=\"middle\" x=\"387\" y=\"-230.3\" font-family=\"Times,serif\" font-size=\"14.00\">l5</text>\n</g>\n<!-- l5&#45;&gt;z2 -->\n<g id=\"edge6\" class=\"edge\">\n<title>l5-&gt;z2</title>\n<path fill=\"none\" stroke=\"black\" stroke-width=\"2\" d=\"M378.65,-216.76C374.46,-208.61 369.27,-198.53 364.53,-189.31\"/>\n<polygon fill=\"black\" stroke=\"black\" stroke-width=\"2\" points=\"367.49,-187.42 359.81,-180.12 361.27,-190.62 367.49,-187.42\"/>\n</g>\n<!-- l6 -->\n<g id=\"node7\" class=\"node\">\n<title>l6</title>\n<ellipse fill=\"none\" stroke=\"black\" cx=\"459\" cy=\"-234\" rx=\"27\" ry=\"18\"/>\n<text text-anchor=\"middle\" x=\"459\" y=\"-230.3\" font-family=\"Times,serif\" font-size=\"14.00\">l6</text>\n</g>\n<!-- z3 -->\n<g id=\"node12\" class=\"node\">\n<title>z3</title>\n<polygon fill=\"none\" stroke=\"black\" points=\"443.23,-144 474.77,-144 486,-180 432,-180 443.23,-144\"/>\n<text text-anchor=\"middle\" x=\"459\" y=\"-158.3\" font-family=\"Times,serif\" font-size=\"14.00\">z3</text>\n</g>\n<!-- l6&#45;&gt;z3 -->\n<g id=\"edge7\" class=\"edge\">\n<title>l6-&gt;z3</title>\n<path fill=\"none\" stroke=\"black\" d=\"M459,-215.7C459,-207.98 459,-198.71 459,-190.11\"/>\n<polygon fill=\"black\" stroke=\"black\" points=\"462.5,-190.1 459,-180.1 455.5,-190.1 462.5,-190.1\"/>\n</g>\n<!-- l7 -->\n<g id=\"node8\" class=\"node\">\n<title>l7</title>\n<ellipse fill=\"none\" stroke=\"black\" cx=\"531\" cy=\"-234\" rx=\"27\" ry=\"18\"/>\n<text text-anchor=\"middle\" x=\"531\" y=\"-230.3\" font-family=\"Times,serif\" font-size=\"14.00\">l7</text>\n</g>\n<!-- l7&#45;&gt;z3 -->\n<g id=\"edge8\" class=\"edge\">\n<title>l7-&gt;z3</title>\n<path fill=\"none\" stroke=\"black\" stroke-width=\"2\" d=\"M516.43,-218.83C507.08,-209.75 494.7,-197.71 483.83,-187.14\"/>\n<polygon fill=\"black\" stroke=\"black\" stroke-width=\"2\" points=\"486.21,-184.57 476.6,-180.11 481.33,-189.59 486.21,-184.57\"/>\n</g>\n<!-- y0 -->\n<g id=\"node13\" class=\"node\">\n<title>y0</title>\n<polygon fill=\"none\" stroke=\"black\" points=\"190.85,-72 223.15,-72 234.65,-108 179.35,-108 190.85,-72\"/>\n<text text-anchor=\"middle\" x=\"207\" y=\"-86.3\" font-family=\"Times,serif\" font-size=\"14.00\">y0</text>\n</g>\n<!-- z0&#45;&gt;y0 -->\n<g id=\"edge9\" class=\"edge\">\n<title>z0-&gt;y0</title>\n<path fill=\"none\" stroke=\"black\" d=\"M116.83,-149.44C131.83,-139.72 153.72,-125.53 172.18,-113.57\"/>\n<polygon fill=\"black\" stroke=\"black\" points=\"174.16,-116.46 180.64,-108.08 170.35,-110.58 174.16,-116.46\"/>\n</g>\n<!-- z1&#45;&gt;y0 -->\n<g id=\"edge10\" class=\"edge\">\n<title>z1-&gt;y0</title>\n<path fill=\"none\" stroke=\"black\" stroke-width=\"2\" d=\"M207,-143.7C207,-135.98 207,-126.71 207,-118.11\"/>\n<polygon fill=\"black\" stroke=\"black\" stroke-width=\"2\" points=\"210.5,-118.1 207,-108.1 203.5,-118.1 210.5,-118.1\"/>\n</g>\n<!-- y1 -->\n<g id=\"node14\" class=\"node\">\n<title>y1</title>\n<polygon fill=\"none\" stroke=\"black\" points=\"334.85,-72 367.15,-72 378.65,-108 323.35,-108 334.85,-72\"/>\n<text text-anchor=\"middle\" x=\"351\" y=\"-86.3\" font-family=\"Times,serif\" font-size=\"14.00\">y1</text>\n</g>\n<!-- z2&#45;&gt;y1 -->\n<g id=\"edge11\" class=\"edge\">\n<title>z2-&gt;y1</title>\n<path fill=\"none\" stroke=\"black\" d=\"M351,-143.7C351,-135.98 351,-126.71 351,-118.11\"/>\n<polygon fill=\"black\" stroke=\"black\" points=\"354.5,-118.1 351,-108.1 347.5,-118.1 354.5,-118.1\"/>\n</g>\n<!-- z3&#45;&gt;y1 -->\n<g id=\"edge12\" class=\"edge\">\n<title>z3-&gt;y1</title>\n<path fill=\"none\" stroke=\"black\" stroke-width=\"2\" d=\"M441.17,-149.44C426.17,-139.72 404.28,-125.53 385.82,-113.57\"/>\n<polygon fill=\"black\" stroke=\"black\" stroke-width=\"2\" points=\"387.65,-110.58 377.36,-108.08 383.84,-116.46 387.65,-110.58\"/>\n</g>\n<!-- x -->\n<g id=\"node15\" class=\"node\">\n<title>x</title>\n<polygon fill=\"none\" stroke=\"black\" points=\"299.23,0 330.77,0 342,-36 288,-36 299.23,0\"/>\n<text text-anchor=\"middle\" x=\"315\" y=\"-14.3\" font-family=\"Times,serif\" font-size=\"14.00\">x</text>\n</g>\n<!-- y0&#45;&gt;x -->\n<g id=\"edge13\" class=\"edge\">\n<title>y0-&gt;x</title>\n<path fill=\"none\" stroke=\"black\" d=\"M225.32,-77.13C240.22,-67.47 261.67,-53.57 279.85,-41.78\"/>\n<polygon fill=\"black\" stroke=\"black\" points=\"281.99,-44.57 288.48,-36.19 278.18,-38.69 281.99,-44.57\"/>\n</g>\n<!-- y1&#45;&gt;x -->\n<g id=\"edge14\" class=\"edge\">\n<title>y1-&gt;x</title>\n<path fill=\"none\" stroke=\"black\" stroke-width=\"2\" d=\"M342.1,-71.7C338,-63.73 333.05,-54.1 328.51,-45.26\"/>\n<polygon fill=\"black\" stroke=\"black\" stroke-width=\"2\" points=\"331.48,-43.4 323.8,-36.1 325.26,-46.6 331.48,-43.4\"/>\n</g>\n</g>\n</svg>"
          },
          "metadata": {},
          "execution_count": 6
        }
      ]
    },
    {
      "cell_type": "code",
      "source": [
        "#@title Preencher o Label da linha \"L\" com a tabela verdade (exemplo AND)\n",
        "dot_graph = \"\"\"\n",
        "digraph G {\n",
        "{rank=same; l0;l1;l2;l3;l4;l5;l6;l7}\n",
        "{rank=same; z0; z1; z2; z3}\n",
        "{rank=same; y0; y1}\n",
        "z0 [shape=\"invtrapezium\"]\n",
        "z1 [shape=\"invtrapezium\"]\n",
        "z2 [shape=\"invtrapezium\"]\n",
        "z3 [shape=\"invtrapezium\"]\n",
        "y0 [shape=\"invtrapezium\"]\n",
        "y1 [shape=\"invtrapezium\"]\n",
        "x [shape=\"invtrapezium\"]\n",
        "\n",
        "l0 -> z0\n",
        "l1 -> z0 [style=bold]\n",
        "l2 -> z1\n",
        "l3 -> z1 [style=bold]\n",
        "l4 -> z2\n",
        "l5 -> z2 [style=bold]\n",
        "l6 -> z3\n",
        "l7 -> z3 [style=bold]\n",
        "z0 -> y0\n",
        "z1 -> y0 [style=bold]\n",
        "z2 -> y1\n",
        "z3 -> y1 [style=bold]\n",
        "y0 -> x\n",
        "y1 -> x [style=bold]\n",
        "\n",
        "l0 [label=\"0\"]\n",
        "l1 [label=\"0\"]\n",
        "l2 [label=\"0\"]\n",
        "l3 [label=\"0\"]\n",
        "l4 [label=\"0\"]\n",
        "l5 [label=\"0\"]\n",
        "l6 [label=\"0\"]\n",
        "l7 [label=\"1\"]\n",
        "\n",
        "\n",
        " }\n",
        " \"\"\"\n",
        "\n",
        "from graphviz import Source\n",
        "from IPython.display import SVG\n",
        "\n",
        "graph = Source(dot_graph)\n",
        "SVG(graph.pipe(format='svg'))"
      ],
      "metadata": {
        "colab": {
          "base_uri": "https://localhost:8080/",
          "height": 368
        },
        "outputId": "f8cc4547-336d-43f1-ce01-212422e720bf",
        "id": "_bGV-TdxCjT5"
      },
      "execution_count": null,
      "outputs": [
        {
          "output_type": "execute_result",
          "data": {
            "text/plain": [
              "<IPython.core.display.SVG object>"
            ],
            "image/svg+xml": "<svg xmlns=\"http://www.w3.org/2000/svg\" xmlns:xlink=\"http://www.w3.org/1999/xlink\" width=\"566pt\" height=\"260pt\" viewBox=\"0.00 0.00 566.00 260.00\">\n<g id=\"graph0\" class=\"graph\" transform=\"scale(1 1) rotate(0) translate(4 256)\">\n<title>G</title>\n<polygon fill=\"white\" stroke=\"transparent\" points=\"-4,4 -4,-256 562,-256 562,4 -4,4\"/>\n<!-- l0 -->\n<g id=\"node1\" class=\"node\">\n<title>l0</title>\n<ellipse fill=\"none\" stroke=\"black\" cx=\"27\" cy=\"-234\" rx=\"27\" ry=\"18\"/>\n<text text-anchor=\"middle\" x=\"27\" y=\"-230.3\" font-family=\"Times,serif\" font-size=\"14.00\">0</text>\n</g>\n<!-- z0 -->\n<g id=\"node9\" class=\"node\">\n<title>z0</title>\n<polygon fill=\"none\" stroke=\"black\" points=\"83.23,-144 114.77,-144 126,-180 72,-180 83.23,-144\"/>\n<text text-anchor=\"middle\" x=\"99\" y=\"-158.3\" font-family=\"Times,serif\" font-size=\"14.00\">z0</text>\n</g>\n<!-- l0&#45;&gt;z0 -->\n<g id=\"edge1\" class=\"edge\">\n<title>l0-&gt;z0</title>\n<path fill=\"none\" stroke=\"black\" d=\"M41.57,-218.83C50.92,-209.75 63.3,-197.71 74.17,-187.14\"/>\n<polygon fill=\"black\" stroke=\"black\" points=\"76.67,-189.59 81.4,-180.11 71.79,-184.57 76.67,-189.59\"/>\n</g>\n<!-- l1 -->\n<g id=\"node2\" class=\"node\">\n<title>l1</title>\n<ellipse fill=\"none\" stroke=\"black\" cx=\"99\" cy=\"-234\" rx=\"27\" ry=\"18\"/>\n<text text-anchor=\"middle\" x=\"99\" y=\"-230.3\" font-family=\"Times,serif\" font-size=\"14.00\">0</text>\n</g>\n<!-- l1&#45;&gt;z0 -->\n<g id=\"edge2\" class=\"edge\">\n<title>l1-&gt;z0</title>\n<path fill=\"none\" stroke=\"black\" stroke-width=\"2\" d=\"M99,-215.7C99,-207.98 99,-198.71 99,-190.11\"/>\n<polygon fill=\"black\" stroke=\"black\" stroke-width=\"2\" points=\"102.5,-190.1 99,-180.1 95.5,-190.1 102.5,-190.1\"/>\n</g>\n<!-- l2 -->\n<g id=\"node3\" class=\"node\">\n<title>l2</title>\n<ellipse fill=\"none\" stroke=\"black\" cx=\"171\" cy=\"-234\" rx=\"27\" ry=\"18\"/>\n<text text-anchor=\"middle\" x=\"171\" y=\"-230.3\" font-family=\"Times,serif\" font-size=\"14.00\">0</text>\n</g>\n<!-- z1 -->\n<g id=\"node10\" class=\"node\">\n<title>z1</title>\n<polygon fill=\"none\" stroke=\"black\" points=\"191.23,-144 222.77,-144 234,-180 180,-180 191.23,-144\"/>\n<text text-anchor=\"middle\" x=\"207\" y=\"-158.3\" font-family=\"Times,serif\" font-size=\"14.00\">z1</text>\n</g>\n<!-- l2&#45;&gt;z1 -->\n<g id=\"edge3\" class=\"edge\">\n<title>l2-&gt;z1</title>\n<path fill=\"none\" stroke=\"black\" d=\"M179.35,-216.76C183.54,-208.61 188.73,-198.53 193.47,-189.31\"/>\n<polygon fill=\"black\" stroke=\"black\" points=\"196.73,-190.62 198.19,-180.12 190.51,-187.42 196.73,-190.62\"/>\n</g>\n<!-- l3 -->\n<g id=\"node4\" class=\"node\">\n<title>l3</title>\n<ellipse fill=\"none\" stroke=\"black\" cx=\"243\" cy=\"-234\" rx=\"27\" ry=\"18\"/>\n<text text-anchor=\"middle\" x=\"243\" y=\"-230.3\" font-family=\"Times,serif\" font-size=\"14.00\">0</text>\n</g>\n<!-- l3&#45;&gt;z1 -->\n<g id=\"edge4\" class=\"edge\">\n<title>l3-&gt;z1</title>\n<path fill=\"none\" stroke=\"black\" stroke-width=\"2\" d=\"M234.65,-216.76C230.46,-208.61 225.27,-198.53 220.53,-189.31\"/>\n<polygon fill=\"black\" stroke=\"black\" stroke-width=\"2\" points=\"223.49,-187.42 215.81,-180.12 217.27,-190.62 223.49,-187.42\"/>\n</g>\n<!-- l4 -->\n<g id=\"node5\" class=\"node\">\n<title>l4</title>\n<ellipse fill=\"none\" stroke=\"black\" cx=\"315\" cy=\"-234\" rx=\"27\" ry=\"18\"/>\n<text text-anchor=\"middle\" x=\"315\" y=\"-230.3\" font-family=\"Times,serif\" font-size=\"14.00\">0</text>\n</g>\n<!-- z2 -->\n<g id=\"node11\" class=\"node\">\n<title>z2</title>\n<polygon fill=\"none\" stroke=\"black\" points=\"335.23,-144 366.77,-144 378,-180 324,-180 335.23,-144\"/>\n<text text-anchor=\"middle\" x=\"351\" y=\"-158.3\" font-family=\"Times,serif\" font-size=\"14.00\">z2</text>\n</g>\n<!-- l4&#45;&gt;z2 -->\n<g id=\"edge5\" class=\"edge\">\n<title>l4-&gt;z2</title>\n<path fill=\"none\" stroke=\"black\" d=\"M323.35,-216.76C327.54,-208.61 332.73,-198.53 337.47,-189.31\"/>\n<polygon fill=\"black\" stroke=\"black\" points=\"340.73,-190.62 342.19,-180.12 334.51,-187.42 340.73,-190.62\"/>\n</g>\n<!-- l5 -->\n<g id=\"node6\" class=\"node\">\n<title>l5</title>\n<ellipse fill=\"none\" stroke=\"black\" cx=\"387\" cy=\"-234\" rx=\"27\" ry=\"18\"/>\n<text text-anchor=\"middle\" x=\"387\" y=\"-230.3\" font-family=\"Times,serif\" font-size=\"14.00\">0</text>\n</g>\n<!-- l5&#45;&gt;z2 -->\n<g id=\"edge6\" class=\"edge\">\n<title>l5-&gt;z2</title>\n<path fill=\"none\" stroke=\"black\" stroke-width=\"2\" d=\"M378.65,-216.76C374.46,-208.61 369.27,-198.53 364.53,-189.31\"/>\n<polygon fill=\"black\" stroke=\"black\" stroke-width=\"2\" points=\"367.49,-187.42 359.81,-180.12 361.27,-190.62 367.49,-187.42\"/>\n</g>\n<!-- l6 -->\n<g id=\"node7\" class=\"node\">\n<title>l6</title>\n<ellipse fill=\"none\" stroke=\"black\" cx=\"459\" cy=\"-234\" rx=\"27\" ry=\"18\"/>\n<text text-anchor=\"middle\" x=\"459\" y=\"-230.3\" font-family=\"Times,serif\" font-size=\"14.00\">0</text>\n</g>\n<!-- z3 -->\n<g id=\"node12\" class=\"node\">\n<title>z3</title>\n<polygon fill=\"none\" stroke=\"black\" points=\"443.23,-144 474.77,-144 486,-180 432,-180 443.23,-144\"/>\n<text text-anchor=\"middle\" x=\"459\" y=\"-158.3\" font-family=\"Times,serif\" font-size=\"14.00\">z3</text>\n</g>\n<!-- l6&#45;&gt;z3 -->\n<g id=\"edge7\" class=\"edge\">\n<title>l6-&gt;z3</title>\n<path fill=\"none\" stroke=\"black\" d=\"M459,-215.7C459,-207.98 459,-198.71 459,-190.11\"/>\n<polygon fill=\"black\" stroke=\"black\" points=\"462.5,-190.1 459,-180.1 455.5,-190.1 462.5,-190.1\"/>\n</g>\n<!-- l7 -->\n<g id=\"node8\" class=\"node\">\n<title>l7</title>\n<ellipse fill=\"none\" stroke=\"black\" cx=\"531\" cy=\"-234\" rx=\"27\" ry=\"18\"/>\n<text text-anchor=\"middle\" x=\"531\" y=\"-230.3\" font-family=\"Times,serif\" font-size=\"14.00\">1</text>\n</g>\n<!-- l7&#45;&gt;z3 -->\n<g id=\"edge8\" class=\"edge\">\n<title>l7-&gt;z3</title>\n<path fill=\"none\" stroke=\"black\" stroke-width=\"2\" d=\"M516.43,-218.83C507.08,-209.75 494.7,-197.71 483.83,-187.14\"/>\n<polygon fill=\"black\" stroke=\"black\" stroke-width=\"2\" points=\"486.21,-184.57 476.6,-180.11 481.33,-189.59 486.21,-184.57\"/>\n</g>\n<!-- y0 -->\n<g id=\"node13\" class=\"node\">\n<title>y0</title>\n<polygon fill=\"none\" stroke=\"black\" points=\"190.85,-72 223.15,-72 234.65,-108 179.35,-108 190.85,-72\"/>\n<text text-anchor=\"middle\" x=\"207\" y=\"-86.3\" font-family=\"Times,serif\" font-size=\"14.00\">y0</text>\n</g>\n<!-- z0&#45;&gt;y0 -->\n<g id=\"edge9\" class=\"edge\">\n<title>z0-&gt;y0</title>\n<path fill=\"none\" stroke=\"black\" d=\"M116.83,-149.44C131.83,-139.72 153.72,-125.53 172.18,-113.57\"/>\n<polygon fill=\"black\" stroke=\"black\" points=\"174.16,-116.46 180.64,-108.08 170.35,-110.58 174.16,-116.46\"/>\n</g>\n<!-- z1&#45;&gt;y0 -->\n<g id=\"edge10\" class=\"edge\">\n<title>z1-&gt;y0</title>\n<path fill=\"none\" stroke=\"black\" stroke-width=\"2\" d=\"M207,-143.7C207,-135.98 207,-126.71 207,-118.11\"/>\n<polygon fill=\"black\" stroke=\"black\" stroke-width=\"2\" points=\"210.5,-118.1 207,-108.1 203.5,-118.1 210.5,-118.1\"/>\n</g>\n<!-- y1 -->\n<g id=\"node14\" class=\"node\">\n<title>y1</title>\n<polygon fill=\"none\" stroke=\"black\" points=\"334.85,-72 367.15,-72 378.65,-108 323.35,-108 334.85,-72\"/>\n<text text-anchor=\"middle\" x=\"351\" y=\"-86.3\" font-family=\"Times,serif\" font-size=\"14.00\">y1</text>\n</g>\n<!-- z2&#45;&gt;y1 -->\n<g id=\"edge11\" class=\"edge\">\n<title>z2-&gt;y1</title>\n<path fill=\"none\" stroke=\"black\" d=\"M351,-143.7C351,-135.98 351,-126.71 351,-118.11\"/>\n<polygon fill=\"black\" stroke=\"black\" points=\"354.5,-118.1 351,-108.1 347.5,-118.1 354.5,-118.1\"/>\n</g>\n<!-- z3&#45;&gt;y1 -->\n<g id=\"edge12\" class=\"edge\">\n<title>z3-&gt;y1</title>\n<path fill=\"none\" stroke=\"black\" stroke-width=\"2\" d=\"M441.17,-149.44C426.17,-139.72 404.28,-125.53 385.82,-113.57\"/>\n<polygon fill=\"black\" stroke=\"black\" stroke-width=\"2\" points=\"387.65,-110.58 377.36,-108.08 383.84,-116.46 387.65,-110.58\"/>\n</g>\n<!-- x -->\n<g id=\"node15\" class=\"node\">\n<title>x</title>\n<polygon fill=\"none\" stroke=\"black\" points=\"299.23,0 330.77,0 342,-36 288,-36 299.23,0\"/>\n<text text-anchor=\"middle\" x=\"315\" y=\"-14.3\" font-family=\"Times,serif\" font-size=\"14.00\">x</text>\n</g>\n<!-- y0&#45;&gt;x -->\n<g id=\"edge13\" class=\"edge\">\n<title>y0-&gt;x</title>\n<path fill=\"none\" stroke=\"black\" d=\"M225.32,-77.13C240.22,-67.47 261.67,-53.57 279.85,-41.78\"/>\n<polygon fill=\"black\" stroke=\"black\" points=\"281.99,-44.57 288.48,-36.19 278.18,-38.69 281.99,-44.57\"/>\n</g>\n<!-- y1&#45;&gt;x -->\n<g id=\"edge14\" class=\"edge\">\n<title>y1-&gt;x</title>\n<path fill=\"none\" stroke=\"black\" stroke-width=\"2\" d=\"M342.1,-71.7C338,-63.73 333.05,-54.1 328.51,-45.26\"/>\n<polygon fill=\"black\" stroke=\"black\" stroke-width=\"2\" points=\"331.48,-43.4 323.8,-36.1 325.26,-46.6 331.48,-43.4\"/>\n</g>\n</g>\n</svg>"
          },
          "metadata": {},
          "execution_count": 8
        }
      ]
    },
    {
      "cell_type": "code",
      "source": [
        "#@title Destacar os Mux com entradas iguais para eliminar...\n",
        "dot_graph = \"\"\"\n",
        "digraph G {\n",
        "{rank=same; l0;l1;l2;l3;l4;l5;l6;l7}\n",
        "{rank=same; z0; z1; z2; z3}\n",
        "{rank=same; y0; y1}\n",
        "z0 [shape=\"invtrapezium\";style=\"bold\"]\n",
        "z1 [shape=\"invtrapezium\";style=\"bold\"]\n",
        "z2 [shape=\"invtrapezium\";style=\"bold\"]\n",
        "z3 [shape=\"invtrapezium\"]\n",
        "y0 [shape=\"invtrapezium\"]\n",
        "y1 [shape=\"invtrapezium\"]\n",
        "x [shape=\"invtrapezium\"]\n",
        "\n",
        "l0 -> z0\n",
        "l1 -> z0 [style=bold]\n",
        "l2 -> z1\n",
        "l3 -> z1 [style=bold]\n",
        "l4 -> z2\n",
        "l5 -> z2 [style=bold]\n",
        "l6 -> z3\n",
        "l7 -> z3 [style=bold]\n",
        "z0 -> y0\n",
        "z1 -> y0 [style=bold]\n",
        "z2 -> y1\n",
        "z3 -> y1 [style=bold]\n",
        "y0 -> x\n",
        "y1 -> x [style=bold]\n",
        "\n",
        "l0 [label=\"0\"]\n",
        "l1 [label=\"0\"]\n",
        "l2 [label=\"0\"]\n",
        "l3 [label=\"0\"]\n",
        "l4 [label=\"0\"]\n",
        "l5 [label=\"0\"]\n",
        "l6 [label=\"0\"]\n",
        "l7 [label=\"1\"]\n",
        "\n",
        "\n",
        " }\n",
        " \"\"\"\n",
        "\n",
        "from graphviz import Source\n",
        "from IPython.display import SVG\n",
        "\n",
        "graph = Source(dot_graph)\n",
        "SVG(graph.pipe(format='svg'))"
      ],
      "metadata": {
        "colab": {
          "base_uri": "https://localhost:8080/",
          "height": 368
        },
        "id": "Qz7db_tQDJ0r",
        "outputId": "c945ead4-cf61-4099-b3de-6a2e78f15985"
      },
      "execution_count": null,
      "outputs": [
        {
          "output_type": "execute_result",
          "data": {
            "text/plain": [
              "<IPython.core.display.SVG object>"
            ],
            "image/svg+xml": "<svg xmlns=\"http://www.w3.org/2000/svg\" xmlns:xlink=\"http://www.w3.org/1999/xlink\" width=\"566pt\" height=\"260pt\" viewBox=\"0.00 0.00 566.00 260.00\">\n<g id=\"graph0\" class=\"graph\" transform=\"scale(1 1) rotate(0) translate(4 256)\">\n<title>G</title>\n<polygon fill=\"white\" stroke=\"transparent\" points=\"-4,4 -4,-256 562,-256 562,4 -4,4\"/>\n<!-- l0 -->\n<g id=\"node1\" class=\"node\">\n<title>l0</title>\n<ellipse fill=\"none\" stroke=\"black\" cx=\"27\" cy=\"-234\" rx=\"27\" ry=\"18\"/>\n<text text-anchor=\"middle\" x=\"27\" y=\"-230.3\" font-family=\"Times,serif\" font-size=\"14.00\">0</text>\n</g>\n<!-- z0 -->\n<g id=\"node9\" class=\"node\">\n<title>z0</title>\n<polygon fill=\"none\" stroke=\"black\" stroke-width=\"2\" points=\"83.23,-144 114.77,-144 126,-180 72,-180 83.23,-144\"/>\n<text text-anchor=\"middle\" x=\"99\" y=\"-158.3\" font-family=\"Times,serif\" font-size=\"14.00\">z0</text>\n</g>\n<!-- l0&#45;&gt;z0 -->\n<g id=\"edge1\" class=\"edge\">\n<title>l0-&gt;z0</title>\n<path fill=\"none\" stroke=\"black\" d=\"M41.57,-218.83C50.92,-209.75 63.3,-197.71 74.17,-187.14\"/>\n<polygon fill=\"black\" stroke=\"black\" points=\"76.67,-189.59 81.4,-180.11 71.79,-184.57 76.67,-189.59\"/>\n</g>\n<!-- l1 -->\n<g id=\"node2\" class=\"node\">\n<title>l1</title>\n<ellipse fill=\"none\" stroke=\"black\" cx=\"99\" cy=\"-234\" rx=\"27\" ry=\"18\"/>\n<text text-anchor=\"middle\" x=\"99\" y=\"-230.3\" font-family=\"Times,serif\" font-size=\"14.00\">0</text>\n</g>\n<!-- l1&#45;&gt;z0 -->\n<g id=\"edge2\" class=\"edge\">\n<title>l1-&gt;z0</title>\n<path fill=\"none\" stroke=\"black\" stroke-width=\"2\" d=\"M99,-215.7C99,-207.98 99,-198.71 99,-190.11\"/>\n<polygon fill=\"black\" stroke=\"black\" stroke-width=\"2\" points=\"102.5,-190.1 99,-180.1 95.5,-190.1 102.5,-190.1\"/>\n</g>\n<!-- l2 -->\n<g id=\"node3\" class=\"node\">\n<title>l2</title>\n<ellipse fill=\"none\" stroke=\"black\" cx=\"171\" cy=\"-234\" rx=\"27\" ry=\"18\"/>\n<text text-anchor=\"middle\" x=\"171\" y=\"-230.3\" font-family=\"Times,serif\" font-size=\"14.00\">0</text>\n</g>\n<!-- z1 -->\n<g id=\"node10\" class=\"node\">\n<title>z1</title>\n<polygon fill=\"none\" stroke=\"black\" stroke-width=\"2\" points=\"191.23,-144 222.77,-144 234,-180 180,-180 191.23,-144\"/>\n<text text-anchor=\"middle\" x=\"207\" y=\"-158.3\" font-family=\"Times,serif\" font-size=\"14.00\">z1</text>\n</g>\n<!-- l2&#45;&gt;z1 -->\n<g id=\"edge3\" class=\"edge\">\n<title>l2-&gt;z1</title>\n<path fill=\"none\" stroke=\"black\" d=\"M179.35,-216.76C183.54,-208.61 188.73,-198.53 193.47,-189.31\"/>\n<polygon fill=\"black\" stroke=\"black\" points=\"196.73,-190.62 198.19,-180.12 190.51,-187.42 196.73,-190.62\"/>\n</g>\n<!-- l3 -->\n<g id=\"node4\" class=\"node\">\n<title>l3</title>\n<ellipse fill=\"none\" stroke=\"black\" cx=\"243\" cy=\"-234\" rx=\"27\" ry=\"18\"/>\n<text text-anchor=\"middle\" x=\"243\" y=\"-230.3\" font-family=\"Times,serif\" font-size=\"14.00\">0</text>\n</g>\n<!-- l3&#45;&gt;z1 -->\n<g id=\"edge4\" class=\"edge\">\n<title>l3-&gt;z1</title>\n<path fill=\"none\" stroke=\"black\" stroke-width=\"2\" d=\"M234.65,-216.76C230.46,-208.61 225.27,-198.53 220.53,-189.31\"/>\n<polygon fill=\"black\" stroke=\"black\" stroke-width=\"2\" points=\"223.49,-187.42 215.81,-180.12 217.27,-190.62 223.49,-187.42\"/>\n</g>\n<!-- l4 -->\n<g id=\"node5\" class=\"node\">\n<title>l4</title>\n<ellipse fill=\"none\" stroke=\"black\" cx=\"315\" cy=\"-234\" rx=\"27\" ry=\"18\"/>\n<text text-anchor=\"middle\" x=\"315\" y=\"-230.3\" font-family=\"Times,serif\" font-size=\"14.00\">0</text>\n</g>\n<!-- z2 -->\n<g id=\"node11\" class=\"node\">\n<title>z2</title>\n<polygon fill=\"none\" stroke=\"black\" stroke-width=\"2\" points=\"335.23,-144 366.77,-144 378,-180 324,-180 335.23,-144\"/>\n<text text-anchor=\"middle\" x=\"351\" y=\"-158.3\" font-family=\"Times,serif\" font-size=\"14.00\">z2</text>\n</g>\n<!-- l4&#45;&gt;z2 -->\n<g id=\"edge5\" class=\"edge\">\n<title>l4-&gt;z2</title>\n<path fill=\"none\" stroke=\"black\" d=\"M323.35,-216.76C327.54,-208.61 332.73,-198.53 337.47,-189.31\"/>\n<polygon fill=\"black\" stroke=\"black\" points=\"340.73,-190.62 342.19,-180.12 334.51,-187.42 340.73,-190.62\"/>\n</g>\n<!-- l5 -->\n<g id=\"node6\" class=\"node\">\n<title>l5</title>\n<ellipse fill=\"none\" stroke=\"black\" cx=\"387\" cy=\"-234\" rx=\"27\" ry=\"18\"/>\n<text text-anchor=\"middle\" x=\"387\" y=\"-230.3\" font-family=\"Times,serif\" font-size=\"14.00\">0</text>\n</g>\n<!-- l5&#45;&gt;z2 -->\n<g id=\"edge6\" class=\"edge\">\n<title>l5-&gt;z2</title>\n<path fill=\"none\" stroke=\"black\" stroke-width=\"2\" d=\"M378.65,-216.76C374.46,-208.61 369.27,-198.53 364.53,-189.31\"/>\n<polygon fill=\"black\" stroke=\"black\" stroke-width=\"2\" points=\"367.49,-187.42 359.81,-180.12 361.27,-190.62 367.49,-187.42\"/>\n</g>\n<!-- l6 -->\n<g id=\"node7\" class=\"node\">\n<title>l6</title>\n<ellipse fill=\"none\" stroke=\"black\" cx=\"459\" cy=\"-234\" rx=\"27\" ry=\"18\"/>\n<text text-anchor=\"middle\" x=\"459\" y=\"-230.3\" font-family=\"Times,serif\" font-size=\"14.00\">0</text>\n</g>\n<!-- z3 -->\n<g id=\"node12\" class=\"node\">\n<title>z3</title>\n<polygon fill=\"none\" stroke=\"black\" points=\"443.23,-144 474.77,-144 486,-180 432,-180 443.23,-144\"/>\n<text text-anchor=\"middle\" x=\"459\" y=\"-158.3\" font-family=\"Times,serif\" font-size=\"14.00\">z3</text>\n</g>\n<!-- l6&#45;&gt;z3 -->\n<g id=\"edge7\" class=\"edge\">\n<title>l6-&gt;z3</title>\n<path fill=\"none\" stroke=\"black\" d=\"M459,-215.7C459,-207.98 459,-198.71 459,-190.11\"/>\n<polygon fill=\"black\" stroke=\"black\" points=\"462.5,-190.1 459,-180.1 455.5,-190.1 462.5,-190.1\"/>\n</g>\n<!-- l7 -->\n<g id=\"node8\" class=\"node\">\n<title>l7</title>\n<ellipse fill=\"none\" stroke=\"black\" cx=\"531\" cy=\"-234\" rx=\"27\" ry=\"18\"/>\n<text text-anchor=\"middle\" x=\"531\" y=\"-230.3\" font-family=\"Times,serif\" font-size=\"14.00\">1</text>\n</g>\n<!-- l7&#45;&gt;z3 -->\n<g id=\"edge8\" class=\"edge\">\n<title>l7-&gt;z3</title>\n<path fill=\"none\" stroke=\"black\" stroke-width=\"2\" d=\"M516.43,-218.83C507.08,-209.75 494.7,-197.71 483.83,-187.14\"/>\n<polygon fill=\"black\" stroke=\"black\" stroke-width=\"2\" points=\"486.21,-184.57 476.6,-180.11 481.33,-189.59 486.21,-184.57\"/>\n</g>\n<!-- y0 -->\n<g id=\"node13\" class=\"node\">\n<title>y0</title>\n<polygon fill=\"none\" stroke=\"black\" points=\"190.85,-72 223.15,-72 234.65,-108 179.35,-108 190.85,-72\"/>\n<text text-anchor=\"middle\" x=\"207\" y=\"-86.3\" font-family=\"Times,serif\" font-size=\"14.00\">y0</text>\n</g>\n<!-- z0&#45;&gt;y0 -->\n<g id=\"edge9\" class=\"edge\">\n<title>z0-&gt;y0</title>\n<path fill=\"none\" stroke=\"black\" d=\"M116.83,-149.44C131.83,-139.72 153.72,-125.53 172.18,-113.57\"/>\n<polygon fill=\"black\" stroke=\"black\" points=\"174.16,-116.46 180.64,-108.08 170.35,-110.58 174.16,-116.46\"/>\n</g>\n<!-- z1&#45;&gt;y0 -->\n<g id=\"edge10\" class=\"edge\">\n<title>z1-&gt;y0</title>\n<path fill=\"none\" stroke=\"black\" stroke-width=\"2\" d=\"M207,-143.7C207,-135.98 207,-126.71 207,-118.11\"/>\n<polygon fill=\"black\" stroke=\"black\" stroke-width=\"2\" points=\"210.5,-118.1 207,-108.1 203.5,-118.1 210.5,-118.1\"/>\n</g>\n<!-- y1 -->\n<g id=\"node14\" class=\"node\">\n<title>y1</title>\n<polygon fill=\"none\" stroke=\"black\" points=\"334.85,-72 367.15,-72 378.65,-108 323.35,-108 334.85,-72\"/>\n<text text-anchor=\"middle\" x=\"351\" y=\"-86.3\" font-family=\"Times,serif\" font-size=\"14.00\">y1</text>\n</g>\n<!-- z2&#45;&gt;y1 -->\n<g id=\"edge11\" class=\"edge\">\n<title>z2-&gt;y1</title>\n<path fill=\"none\" stroke=\"black\" d=\"M351,-143.7C351,-135.98 351,-126.71 351,-118.11\"/>\n<polygon fill=\"black\" stroke=\"black\" points=\"354.5,-118.1 351,-108.1 347.5,-118.1 354.5,-118.1\"/>\n</g>\n<!-- z3&#45;&gt;y1 -->\n<g id=\"edge12\" class=\"edge\">\n<title>z3-&gt;y1</title>\n<path fill=\"none\" stroke=\"black\" stroke-width=\"2\" d=\"M441.17,-149.44C426.17,-139.72 404.28,-125.53 385.82,-113.57\"/>\n<polygon fill=\"black\" stroke=\"black\" stroke-width=\"2\" points=\"387.65,-110.58 377.36,-108.08 383.84,-116.46 387.65,-110.58\"/>\n</g>\n<!-- x -->\n<g id=\"node15\" class=\"node\">\n<title>x</title>\n<polygon fill=\"none\" stroke=\"black\" points=\"299.23,0 330.77,0 342,-36 288,-36 299.23,0\"/>\n<text text-anchor=\"middle\" x=\"315\" y=\"-14.3\" font-family=\"Times,serif\" font-size=\"14.00\">x</text>\n</g>\n<!-- y0&#45;&gt;x -->\n<g id=\"edge13\" class=\"edge\">\n<title>y0-&gt;x</title>\n<path fill=\"none\" stroke=\"black\" d=\"M225.32,-77.13C240.22,-67.47 261.67,-53.57 279.85,-41.78\"/>\n<polygon fill=\"black\" stroke=\"black\" points=\"281.99,-44.57 288.48,-36.19 278.18,-38.69 281.99,-44.57\"/>\n</g>\n<!-- y1&#45;&gt;x -->\n<g id=\"edge14\" class=\"edge\">\n<title>y1-&gt;x</title>\n<path fill=\"none\" stroke=\"black\" stroke-width=\"2\" d=\"M342.1,-71.7C338,-63.73 333.05,-54.1 328.51,-45.26\"/>\n<polygon fill=\"black\" stroke=\"black\" stroke-width=\"2\" points=\"331.48,-43.4 323.8,-36.1 325.26,-46.6 331.48,-43.4\"/>\n</g>\n</g>\n</svg>"
          },
          "metadata": {},
          "execution_count": 9
        }
      ]
    },
    {
      "cell_type": "code",
      "source": [
        "#@title Depois eliminar os muxes z0,z1,z2 e marcar mux Y0 para eliminar, destacar z3 para substituir\n",
        "dot_graph = \"\"\"\n",
        "digraph G {\n",
        "{rank=same; 0; l6;l7}\n",
        "{rank=same;  z3}\n",
        "{rank=same; y0; y1}\n",
        "\n",
        "z3 [shape=\"invtrapezium\";style=dashed]\n",
        "y0 [shape=\"invtrapezium\";style=bold]\n",
        "y1 [shape=\"invtrapezium\"]\n",
        "x [shape=\"invtrapezium\"]\n",
        "\n",
        "\n",
        "l6 -> z3\n",
        "l7 -> z3 [style=bold]\n",
        "0 -> y0\n",
        "0 -> y0 [style=bold]\n",
        "0 -> y1\n",
        "z3 -> y1 [style=bold]\n",
        "y0 -> x\n",
        "y1 -> x [style=bold]\n",
        "\n",
        "l6 [label=\"0\"]\n",
        "l7 [label=\"1\"]\n",
        "\n",
        "\n",
        " }\n",
        " \"\"\"\n",
        "\n",
        "from graphviz import Source\n",
        "from IPython.display import SVG\n",
        "\n",
        "graph = Source(dot_graph)\n",
        "SVG(graph.pipe(format='svg'))"
      ],
      "metadata": {
        "colab": {
          "base_uri": "https://localhost:8080/",
          "height": 368
        },
        "id": "oZLQNiNqDlfs",
        "outputId": "635689b5-f8f2-4a67-8d41-6addda733cc1"
      },
      "execution_count": null,
      "outputs": [
        {
          "output_type": "execute_result",
          "data": {
            "text/plain": [
              "<IPython.core.display.SVG object>"
            ],
            "image/svg+xml": "<svg xmlns=\"http://www.w3.org/2000/svg\" xmlns:xlink=\"http://www.w3.org/1999/xlink\" width=\"222pt\" height=\"260pt\" viewBox=\"0.00 0.00 221.57 260.00\">\n<g id=\"graph0\" class=\"graph\" transform=\"scale(1 1) rotate(0) translate(4 256)\">\n<title>G</title>\n<polygon fill=\"white\" stroke=\"transparent\" points=\"-4,4 -4,-256 217.57,-256 217.57,4 -4,4\"/>\n<!-- 0 -->\n<g id=\"node1\" class=\"node\">\n<title>0</title>\n<ellipse fill=\"none\" stroke=\"black\" cx=\"27.57\" cy=\"-234\" rx=\"27\" ry=\"18\"/>\n<text text-anchor=\"middle\" x=\"27.57\" y=\"-230.3\" font-family=\"Times,serif\" font-size=\"14.00\">0</text>\n</g>\n<!-- y0 -->\n<g id=\"node5\" class=\"node\">\n<title>y0</title>\n<polygon fill=\"none\" stroke=\"black\" stroke-width=\"2\" points=\"11.43,-72 43.72,-72 55.22,-108 -0.07,-108 11.43,-72\"/>\n<text text-anchor=\"middle\" x=\"27.57\" y=\"-86.3\" font-family=\"Times,serif\" font-size=\"14.00\">y0</text>\n</g>\n<!-- 0&#45;&gt;y0 -->\n<g id=\"edge3\" class=\"edge\">\n<title>0-&gt;y0</title>\n<path fill=\"none\" stroke=\"black\" d=\"M23.02,-216.15C20.44,-192.05 20.13,-147.45 22.11,-118.51\"/>\n<polygon fill=\"black\" stroke=\"black\" points=\"25.62,-118.53 22.98,-108.27 18.64,-117.94 25.62,-118.53\"/>\n</g>\n<!-- 0&#45;&gt;y0 -->\n<g id=\"edge4\" class=\"edge\">\n<title>0-&gt;y0</title>\n<path fill=\"none\" stroke=\"black\" stroke-width=\"2\" d=\"M32.13,-216.15C34.71,-192.05 35.02,-147.45 33.04,-118.51\"/>\n<polygon fill=\"black\" stroke=\"black\" stroke-width=\"2\" points=\"36.51,-117.94 32.17,-108.27 29.53,-118.53 36.51,-117.94\"/>\n</g>\n<!-- y1 -->\n<g id=\"node6\" class=\"node\">\n<title>y1</title>\n<polygon fill=\"none\" stroke=\"black\" points=\"84.43,-72 116.72,-72 128.22,-108 72.93,-108 84.43,-72\"/>\n<text text-anchor=\"middle\" x=\"100.57\" y=\"-86.3\" font-family=\"Times,serif\" font-size=\"14.00\">y1</text>\n</g>\n<!-- 0&#45;&gt;y1 -->\n<g id=\"edge5\" class=\"edge\">\n<title>0-&gt;y1</title>\n<path fill=\"none\" stroke=\"black\" d=\"M35.95,-216.71C48.4,-192.49 71.92,-146.73 86.9,-117.61\"/>\n<polygon fill=\"black\" stroke=\"black\" points=\"90.16,-118.92 91.62,-108.43 83.93,-115.72 90.16,-118.92\"/>\n</g>\n<!-- l6 -->\n<g id=\"node2\" class=\"node\">\n<title>l6</title>\n<ellipse fill=\"none\" stroke=\"black\" cx=\"114.57\" cy=\"-234\" rx=\"27\" ry=\"18\"/>\n<text text-anchor=\"middle\" x=\"114.57\" y=\"-230.3\" font-family=\"Times,serif\" font-size=\"14.00\">0</text>\n</g>\n<!-- z3 -->\n<g id=\"node4\" class=\"node\">\n<title>z3</title>\n<polygon fill=\"none\" stroke=\"black\" stroke-dasharray=\"5,2\" points=\"113.81,-144 145.34,-144 156.57,-180 102.57,-180 113.81,-144\"/>\n<text text-anchor=\"middle\" x=\"129.57\" y=\"-158.3\" font-family=\"Times,serif\" font-size=\"14.00\">z3</text>\n</g>\n<!-- l6&#45;&gt;z3 -->\n<g id=\"edge1\" class=\"edge\">\n<title>l6-&gt;z3</title>\n<path fill=\"none\" stroke=\"black\" d=\"M118.21,-216.05C119.88,-208.26 121.9,-198.82 123.77,-190.08\"/>\n<polygon fill=\"black\" stroke=\"black\" points=\"127.2,-190.79 125.87,-180.28 120.36,-189.32 127.2,-190.79\"/>\n</g>\n<!-- l7 -->\n<g id=\"node3\" class=\"node\">\n<title>l7</title>\n<ellipse fill=\"none\" stroke=\"black\" cx=\"186.57\" cy=\"-234\" rx=\"27\" ry=\"18\"/>\n<text text-anchor=\"middle\" x=\"186.57\" y=\"-230.3\" font-family=\"Times,serif\" font-size=\"14.00\">1</text>\n</g>\n<!-- l7&#45;&gt;z3 -->\n<g id=\"edge2\" class=\"edge\">\n<title>l7-&gt;z3</title>\n<path fill=\"none\" stroke=\"black\" stroke-width=\"2\" d=\"M174.21,-217.81C167.15,-209.14 158.12,-198.05 150.03,-188.12\"/>\n<polygon fill=\"black\" stroke=\"black\" stroke-width=\"2\" points=\"152.55,-185.67 143.52,-180.13 147.12,-190.09 152.55,-185.67\"/>\n</g>\n<!-- z3&#45;&gt;y1 -->\n<g id=\"edge6\" class=\"edge\">\n<title>z3-&gt;y1</title>\n<path fill=\"none\" stroke=\"black\" stroke-width=\"2\" d=\"M122.41,-143.7C119.14,-135.81 115.2,-126.3 111.57,-117.55\"/>\n<polygon fill=\"black\" stroke=\"black\" stroke-width=\"2\" points=\"114.72,-116 107.66,-108.1 108.25,-118.68 114.72,-116\"/>\n</g>\n<!-- x -->\n<g id=\"node7\" class=\"node\">\n<title>x</title>\n<polygon fill=\"none\" stroke=\"black\" points=\"47.81,0 79.34,0 90.57,-36 36.57,-36 47.81,0\"/>\n<text text-anchor=\"middle\" x=\"63.57\" y=\"-14.3\" font-family=\"Times,serif\" font-size=\"14.00\">x</text>\n</g>\n<!-- y0&#45;&gt;x -->\n<g id=\"edge7\" class=\"edge\">\n<title>y0-&gt;x</title>\n<path fill=\"none\" stroke=\"black\" d=\"M36.47,-71.7C40.57,-63.73 45.52,-54.1 50.07,-45.26\"/>\n<polygon fill=\"black\" stroke=\"black\" points=\"53.32,-46.6 54.78,-36.1 47.09,-43.4 53.32,-46.6\"/>\n</g>\n<!-- y1&#45;&gt;x -->\n<g id=\"edge8\" class=\"edge\">\n<title>y1-&gt;x</title>\n<path fill=\"none\" stroke=\"black\" stroke-width=\"2\" d=\"M91.43,-71.7C87.17,-63.64 82.02,-53.89 77.31,-44.98\"/>\n<polygon fill=\"black\" stroke=\"black\" stroke-width=\"2\" points=\"80.38,-43.31 72.62,-36.1 74.19,-46.58 80.38,-43.31\"/>\n</g>\n</g>\n</svg>"
          },
          "metadata": {},
          "execution_count": 12
        }
      ]
    },
    {
      "cell_type": "code",
      "source": [
        "#@title Depois eliminar todos muxes redundantes e chegar a versão final.\n",
        "dot_graph = \"\"\"\n",
        "digraph G {\n",
        "\n",
        "\n",
        "y [shape=\"invtrapezium\"]\n",
        "x [shape=\"invtrapezium\"]\n",
        "\n",
        "\n",
        "0 -> y\n",
        "z -> y [style=bold]\n",
        "0 -> x\n",
        "y -> x [style=bold]\n",
        "\n",
        "\n",
        "\n",
        " }\n",
        " \"\"\"\n",
        "\n",
        "from graphviz import Source\n",
        "from IPython.display import SVG\n",
        "\n",
        "graph = Source(dot_graph)\n",
        "SVG(graph.pipe(format='svg'))"
      ],
      "metadata": {
        "colab": {
          "base_uri": "https://localhost:8080/",
          "height": 272
        },
        "id": "B-zgDT6VEtm1",
        "outputId": "96a0e591-20ef-4501-bb14-e598db884b12"
      },
      "execution_count": null,
      "outputs": [
        {
          "output_type": "execute_result",
          "data": {
            "text/plain": [
              "<IPython.core.display.SVG object>"
            ],
            "image/svg+xml": "<svg xmlns=\"http://www.w3.org/2000/svg\" xmlns:xlink=\"http://www.w3.org/1999/xlink\" width=\"134pt\" height=\"188pt\" viewBox=\"0.00 0.00 134.00 188.00\">\n<g id=\"graph0\" class=\"graph\" transform=\"scale(1 1) rotate(0) translate(4 184)\">\n<title>G</title>\n<polygon fill=\"white\" stroke=\"transparent\" points=\"-4,4 -4,-184 130,-184 130,4 -4,4\"/>\n<!-- y -->\n<g id=\"node1\" class=\"node\">\n<title>y</title>\n<polygon fill=\"none\" stroke=\"black\" points=\"28.23,-72 59.77,-72 71,-108 17,-108 28.23,-72\"/>\n<text text-anchor=\"middle\" x=\"44\" y=\"-86.3\" font-family=\"Times,serif\" font-size=\"14.00\">y</text>\n</g>\n<!-- x -->\n<g id=\"node2\" class=\"node\">\n<title>x</title>\n<polygon fill=\"none\" stroke=\"black\" points=\"55.23,0 86.77,0 98,-36 44,-36 55.23,0\"/>\n<text text-anchor=\"middle\" x=\"71\" y=\"-14.3\" font-family=\"Times,serif\" font-size=\"14.00\">x</text>\n</g>\n<!-- y&#45;&gt;x -->\n<g id=\"edge4\" class=\"edge\">\n<title>y-&gt;x</title>\n<path fill=\"none\" stroke=\"black\" stroke-width=\"2\" d=\"M50.67,-71.7C53.71,-63.81 57.38,-54.3 60.76,-45.55\"/>\n<polygon fill=\"black\" stroke=\"black\" stroke-width=\"2\" points=\"64.07,-46.69 64.4,-36.1 57.54,-44.17 64.07,-46.69\"/>\n</g>\n<!-- 0 -->\n<g id=\"node3\" class=\"node\">\n<title>0</title>\n<ellipse fill=\"none\" stroke=\"black\" cx=\"99\" cy=\"-162\" rx=\"27\" ry=\"18\"/>\n<text text-anchor=\"middle\" x=\"99\" y=\"-158.3\" font-family=\"Times,serif\" font-size=\"14.00\">0</text>\n</g>\n<!-- 0&#45;&gt;y -->\n<g id=\"edge1\" class=\"edge\">\n<title>0-&gt;y</title>\n<path fill=\"none\" stroke=\"black\" d=\"M87.07,-145.81C80.25,-137.14 71.54,-126.05 63.74,-116.12\"/>\n<polygon fill=\"black\" stroke=\"black\" points=\"66.39,-113.83 57.46,-108.13 60.88,-118.15 66.39,-113.83\"/>\n</g>\n<!-- 0&#45;&gt;x -->\n<g id=\"edge3\" class=\"edge\">\n<title>0-&gt;x</title>\n<path fill=\"none\" stroke=\"black\" d=\"M95.62,-143.87C90.83,-119.56 82.01,-74.82 76.33,-46.01\"/>\n<polygon fill=\"black\" stroke=\"black\" points=\"79.76,-45.32 74.39,-36.19 72.89,-46.68 79.76,-45.32\"/>\n</g>\n<!-- z -->\n<g id=\"node4\" class=\"node\">\n<title>z</title>\n<ellipse fill=\"none\" stroke=\"black\" cx=\"27\" cy=\"-162\" rx=\"27\" ry=\"18\"/>\n<text text-anchor=\"middle\" x=\"27\" y=\"-158.3\" font-family=\"Times,serif\" font-size=\"14.00\">z</text>\n</g>\n<!-- z&#45;&gt;y -->\n<g id=\"edge2\" class=\"edge\">\n<title>z-&gt;y</title>\n<path fill=\"none\" stroke=\"black\" stroke-width=\"2\" d=\"M31.12,-144.05C33.01,-136.26 35.3,-126.82 37.42,-118.08\"/>\n<polygon fill=\"black\" stroke=\"black\" stroke-width=\"2\" points=\"40.85,-118.82 39.8,-108.28 34.04,-117.17 40.85,-118.82\"/>\n</g>\n</g>\n</svg>"
          },
          "metadata": {},
          "execution_count": 17
        }
      ]
    },
    {
      "cell_type": "markdown",
      "source": [
        "## Segundo Exemplo de uma função qualquer...."
      ],
      "metadata": {
        "id": "D6YZDyD3FpWm"
      }
    },
    {
      "cell_type": "code",
      "source": [
        "#@title Destacar os Mux com entradas iguais para eliminar...\n",
        "dot_graph = \"\"\"\n",
        "digraph G {\n",
        "{rank=same; l0;l1;l2;l3;l4;l5;l6;l7}\n",
        "{rank=same; z0; z1; z2; z3}\n",
        "{rank=same; y0; y1}\n",
        "z0 [shape=\"invtrapezium\";style=\"bold\"]\n",
        "z1 [shape=\"invtrapezium\"]\n",
        "z3 [shape=\"invtrapezium\";style=\"bold\"]\n",
        "z2 [shape=\"invtrapezium\"]\n",
        "y0 [shape=\"invtrapezium\"]\n",
        "y1 [shape=\"invtrapezium\"]\n",
        "x [shape=\"invtrapezium\"]\n",
        "\n",
        "l0 -> z0\n",
        "l1 -> z0 [style=bold]\n",
        "l2 -> z1\n",
        "l3 -> z1 [style=bold]\n",
        "l4 -> z2\n",
        "l5 -> z2 [style=bold]\n",
        "l6 -> z3\n",
        "l7 -> z3 [style=bold]\n",
        "z0 -> y0\n",
        "z1 -> y0 [style=bold]\n",
        "z2 -> y1\n",
        "z3 -> y1 [style=bold]\n",
        "y0 -> x\n",
        "y1 -> x [style=bold]\n",
        "\n",
        "l0 [label=\"1\"]\n",
        "l1 [label=\"1\"]\n",
        "l2 [label=\"1\"]\n",
        "l3 [label=\"0\"]\n",
        "l4 [label=\"1\"]\n",
        "l5 [label=\"0\"]\n",
        "l6 [label=\"1\"]\n",
        "l7 [label=\"1\"]\n",
        "\n",
        "\n",
        " }\n",
        " \"\"\"\n",
        "\n",
        "from graphviz import Source\n",
        "from IPython.display import SVG\n",
        "\n",
        "graph = Source(dot_graph)\n",
        "SVG(graph.pipe(format='svg'))"
      ],
      "metadata": {
        "colab": {
          "base_uri": "https://localhost:8080/",
          "height": 368
        },
        "id": "Ly_lNuacFYno",
        "outputId": "1bb74242-9ea6-4c1a-92cd-2cfb15ae9244"
      },
      "execution_count": null,
      "outputs": [
        {
          "output_type": "execute_result",
          "data": {
            "text/plain": [
              "<IPython.core.display.SVG object>"
            ],
            "image/svg+xml": "<svg xmlns=\"http://www.w3.org/2000/svg\" xmlns:xlink=\"http://www.w3.org/1999/xlink\" width=\"566pt\" height=\"260pt\" viewBox=\"0.00 0.00 566.00 260.00\">\n<g id=\"graph0\" class=\"graph\" transform=\"scale(1 1) rotate(0) translate(4 256)\">\n<title>G</title>\n<polygon fill=\"white\" stroke=\"transparent\" points=\"-4,4 -4,-256 562,-256 562,4 -4,4\"/>\n<!-- l0 -->\n<g id=\"node1\" class=\"node\">\n<title>l0</title>\n<ellipse fill=\"none\" stroke=\"black\" cx=\"27\" cy=\"-234\" rx=\"27\" ry=\"18\"/>\n<text text-anchor=\"middle\" x=\"27\" y=\"-230.3\" font-family=\"Times,serif\" font-size=\"14.00\">1</text>\n</g>\n<!-- z0 -->\n<g id=\"node9\" class=\"node\">\n<title>z0</title>\n<polygon fill=\"none\" stroke=\"black\" stroke-width=\"2\" points=\"83.23,-144 114.77,-144 126,-180 72,-180 83.23,-144\"/>\n<text text-anchor=\"middle\" x=\"99\" y=\"-158.3\" font-family=\"Times,serif\" font-size=\"14.00\">z0</text>\n</g>\n<!-- l0&#45;&gt;z0 -->\n<g id=\"edge1\" class=\"edge\">\n<title>l0-&gt;z0</title>\n<path fill=\"none\" stroke=\"black\" d=\"M41.57,-218.83C50.92,-209.75 63.3,-197.71 74.17,-187.14\"/>\n<polygon fill=\"black\" stroke=\"black\" points=\"76.67,-189.59 81.4,-180.11 71.79,-184.57 76.67,-189.59\"/>\n</g>\n<!-- l1 -->\n<g id=\"node2\" class=\"node\">\n<title>l1</title>\n<ellipse fill=\"none\" stroke=\"black\" cx=\"99\" cy=\"-234\" rx=\"27\" ry=\"18\"/>\n<text text-anchor=\"middle\" x=\"99\" y=\"-230.3\" font-family=\"Times,serif\" font-size=\"14.00\">1</text>\n</g>\n<!-- l1&#45;&gt;z0 -->\n<g id=\"edge2\" class=\"edge\">\n<title>l1-&gt;z0</title>\n<path fill=\"none\" stroke=\"black\" stroke-width=\"2\" d=\"M99,-215.7C99,-207.98 99,-198.71 99,-190.11\"/>\n<polygon fill=\"black\" stroke=\"black\" stroke-width=\"2\" points=\"102.5,-190.1 99,-180.1 95.5,-190.1 102.5,-190.1\"/>\n</g>\n<!-- l2 -->\n<g id=\"node3\" class=\"node\">\n<title>l2</title>\n<ellipse fill=\"none\" stroke=\"black\" cx=\"171\" cy=\"-234\" rx=\"27\" ry=\"18\"/>\n<text text-anchor=\"middle\" x=\"171\" y=\"-230.3\" font-family=\"Times,serif\" font-size=\"14.00\">1</text>\n</g>\n<!-- z1 -->\n<g id=\"node10\" class=\"node\">\n<title>z1</title>\n<polygon fill=\"none\" stroke=\"black\" points=\"191.23,-144 222.77,-144 234,-180 180,-180 191.23,-144\"/>\n<text text-anchor=\"middle\" x=\"207\" y=\"-158.3\" font-family=\"Times,serif\" font-size=\"14.00\">z1</text>\n</g>\n<!-- l2&#45;&gt;z1 -->\n<g id=\"edge3\" class=\"edge\">\n<title>l2-&gt;z1</title>\n<path fill=\"none\" stroke=\"black\" d=\"M179.35,-216.76C183.54,-208.61 188.73,-198.53 193.47,-189.31\"/>\n<polygon fill=\"black\" stroke=\"black\" points=\"196.73,-190.62 198.19,-180.12 190.51,-187.42 196.73,-190.62\"/>\n</g>\n<!-- l3 -->\n<g id=\"node4\" class=\"node\">\n<title>l3</title>\n<ellipse fill=\"none\" stroke=\"black\" cx=\"243\" cy=\"-234\" rx=\"27\" ry=\"18\"/>\n<text text-anchor=\"middle\" x=\"243\" y=\"-230.3\" font-family=\"Times,serif\" font-size=\"14.00\">0</text>\n</g>\n<!-- l3&#45;&gt;z1 -->\n<g id=\"edge4\" class=\"edge\">\n<title>l3-&gt;z1</title>\n<path fill=\"none\" stroke=\"black\" stroke-width=\"2\" d=\"M234.65,-216.76C230.46,-208.61 225.27,-198.53 220.53,-189.31\"/>\n<polygon fill=\"black\" stroke=\"black\" stroke-width=\"2\" points=\"223.49,-187.42 215.81,-180.12 217.27,-190.62 223.49,-187.42\"/>\n</g>\n<!-- l4 -->\n<g id=\"node5\" class=\"node\">\n<title>l4</title>\n<ellipse fill=\"none\" stroke=\"black\" cx=\"315\" cy=\"-234\" rx=\"27\" ry=\"18\"/>\n<text text-anchor=\"middle\" x=\"315\" y=\"-230.3\" font-family=\"Times,serif\" font-size=\"14.00\">1</text>\n</g>\n<!-- z2 -->\n<g id=\"node11\" class=\"node\">\n<title>z2</title>\n<polygon fill=\"none\" stroke=\"black\" points=\"335.23,-144 366.77,-144 378,-180 324,-180 335.23,-144\"/>\n<text text-anchor=\"middle\" x=\"351\" y=\"-158.3\" font-family=\"Times,serif\" font-size=\"14.00\">z2</text>\n</g>\n<!-- l4&#45;&gt;z2 -->\n<g id=\"edge5\" class=\"edge\">\n<title>l4-&gt;z2</title>\n<path fill=\"none\" stroke=\"black\" d=\"M323.35,-216.76C327.54,-208.61 332.73,-198.53 337.47,-189.31\"/>\n<polygon fill=\"black\" stroke=\"black\" points=\"340.73,-190.62 342.19,-180.12 334.51,-187.42 340.73,-190.62\"/>\n</g>\n<!-- l5 -->\n<g id=\"node6\" class=\"node\">\n<title>l5</title>\n<ellipse fill=\"none\" stroke=\"black\" cx=\"387\" cy=\"-234\" rx=\"27\" ry=\"18\"/>\n<text text-anchor=\"middle\" x=\"387\" y=\"-230.3\" font-family=\"Times,serif\" font-size=\"14.00\">0</text>\n</g>\n<!-- l5&#45;&gt;z2 -->\n<g id=\"edge6\" class=\"edge\">\n<title>l5-&gt;z2</title>\n<path fill=\"none\" stroke=\"black\" stroke-width=\"2\" d=\"M378.65,-216.76C374.46,-208.61 369.27,-198.53 364.53,-189.31\"/>\n<polygon fill=\"black\" stroke=\"black\" stroke-width=\"2\" points=\"367.49,-187.42 359.81,-180.12 361.27,-190.62 367.49,-187.42\"/>\n</g>\n<!-- l6 -->\n<g id=\"node7\" class=\"node\">\n<title>l6</title>\n<ellipse fill=\"none\" stroke=\"black\" cx=\"459\" cy=\"-234\" rx=\"27\" ry=\"18\"/>\n<text text-anchor=\"middle\" x=\"459\" y=\"-230.3\" font-family=\"Times,serif\" font-size=\"14.00\">1</text>\n</g>\n<!-- z3 -->\n<g id=\"node12\" class=\"node\">\n<title>z3</title>\n<polygon fill=\"none\" stroke=\"black\" stroke-width=\"2\" points=\"443.23,-144 474.77,-144 486,-180 432,-180 443.23,-144\"/>\n<text text-anchor=\"middle\" x=\"459\" y=\"-158.3\" font-family=\"Times,serif\" font-size=\"14.00\">z3</text>\n</g>\n<!-- l6&#45;&gt;z3 -->\n<g id=\"edge7\" class=\"edge\">\n<title>l6-&gt;z3</title>\n<path fill=\"none\" stroke=\"black\" d=\"M459,-215.7C459,-207.98 459,-198.71 459,-190.11\"/>\n<polygon fill=\"black\" stroke=\"black\" points=\"462.5,-190.1 459,-180.1 455.5,-190.1 462.5,-190.1\"/>\n</g>\n<!-- l7 -->\n<g id=\"node8\" class=\"node\">\n<title>l7</title>\n<ellipse fill=\"none\" stroke=\"black\" cx=\"531\" cy=\"-234\" rx=\"27\" ry=\"18\"/>\n<text text-anchor=\"middle\" x=\"531\" y=\"-230.3\" font-family=\"Times,serif\" font-size=\"14.00\">1</text>\n</g>\n<!-- l7&#45;&gt;z3 -->\n<g id=\"edge8\" class=\"edge\">\n<title>l7-&gt;z3</title>\n<path fill=\"none\" stroke=\"black\" stroke-width=\"2\" d=\"M516.43,-218.83C507.08,-209.75 494.7,-197.71 483.83,-187.14\"/>\n<polygon fill=\"black\" stroke=\"black\" stroke-width=\"2\" points=\"486.21,-184.57 476.6,-180.11 481.33,-189.59 486.21,-184.57\"/>\n</g>\n<!-- y0 -->\n<g id=\"node13\" class=\"node\">\n<title>y0</title>\n<polygon fill=\"none\" stroke=\"black\" points=\"190.85,-72 223.15,-72 234.65,-108 179.35,-108 190.85,-72\"/>\n<text text-anchor=\"middle\" x=\"207\" y=\"-86.3\" font-family=\"Times,serif\" font-size=\"14.00\">y0</text>\n</g>\n<!-- z0&#45;&gt;y0 -->\n<g id=\"edge9\" class=\"edge\">\n<title>z0-&gt;y0</title>\n<path fill=\"none\" stroke=\"black\" d=\"M116.83,-149.44C131.83,-139.72 153.72,-125.53 172.18,-113.57\"/>\n<polygon fill=\"black\" stroke=\"black\" points=\"174.16,-116.46 180.64,-108.08 170.35,-110.58 174.16,-116.46\"/>\n</g>\n<!-- z1&#45;&gt;y0 -->\n<g id=\"edge10\" class=\"edge\">\n<title>z1-&gt;y0</title>\n<path fill=\"none\" stroke=\"black\" stroke-width=\"2\" d=\"M207,-143.7C207,-135.98 207,-126.71 207,-118.11\"/>\n<polygon fill=\"black\" stroke=\"black\" stroke-width=\"2\" points=\"210.5,-118.1 207,-108.1 203.5,-118.1 210.5,-118.1\"/>\n</g>\n<!-- y1 -->\n<g id=\"node14\" class=\"node\">\n<title>y1</title>\n<polygon fill=\"none\" stroke=\"black\" points=\"334.85,-72 367.15,-72 378.65,-108 323.35,-108 334.85,-72\"/>\n<text text-anchor=\"middle\" x=\"351\" y=\"-86.3\" font-family=\"Times,serif\" font-size=\"14.00\">y1</text>\n</g>\n<!-- z2&#45;&gt;y1 -->\n<g id=\"edge11\" class=\"edge\">\n<title>z2-&gt;y1</title>\n<path fill=\"none\" stroke=\"black\" d=\"M351,-143.7C351,-135.98 351,-126.71 351,-118.11\"/>\n<polygon fill=\"black\" stroke=\"black\" points=\"354.5,-118.1 351,-108.1 347.5,-118.1 354.5,-118.1\"/>\n</g>\n<!-- z3&#45;&gt;y1 -->\n<g id=\"edge12\" class=\"edge\">\n<title>z3-&gt;y1</title>\n<path fill=\"none\" stroke=\"black\" stroke-width=\"2\" d=\"M441.17,-149.44C426.17,-139.72 404.28,-125.53 385.82,-113.57\"/>\n<polygon fill=\"black\" stroke=\"black\" stroke-width=\"2\" points=\"387.65,-110.58 377.36,-108.08 383.84,-116.46 387.65,-110.58\"/>\n</g>\n<!-- x -->\n<g id=\"node15\" class=\"node\">\n<title>x</title>\n<polygon fill=\"none\" stroke=\"black\" points=\"299.23,0 330.77,0 342,-36 288,-36 299.23,0\"/>\n<text text-anchor=\"middle\" x=\"315\" y=\"-14.3\" font-family=\"Times,serif\" font-size=\"14.00\">x</text>\n</g>\n<!-- y0&#45;&gt;x -->\n<g id=\"edge13\" class=\"edge\">\n<title>y0-&gt;x</title>\n<path fill=\"none\" stroke=\"black\" d=\"M225.32,-77.13C240.22,-67.47 261.67,-53.57 279.85,-41.78\"/>\n<polygon fill=\"black\" stroke=\"black\" points=\"281.99,-44.57 288.48,-36.19 278.18,-38.69 281.99,-44.57\"/>\n</g>\n<!-- y1&#45;&gt;x -->\n<g id=\"edge14\" class=\"edge\">\n<title>y1-&gt;x</title>\n<path fill=\"none\" stroke=\"black\" stroke-width=\"2\" d=\"M342.1,-71.7C338,-63.73 333.05,-54.1 328.51,-45.26\"/>\n<polygon fill=\"black\" stroke=\"black\" stroke-width=\"2\" points=\"331.48,-43.4 323.8,-36.1 325.26,-46.6 331.48,-43.4\"/>\n</g>\n</g>\n</svg>"
          },
          "metadata": {},
          "execution_count": 18
        }
      ]
    },
    {
      "cell_type": "code",
      "source": [
        "#@title eliminando Mux com entradas iguais e destacando pontilhado MUX com variavel Z intertida\n",
        "dot_graph = \"\"\"\n",
        "digraph G {\n",
        "{rank=same; l2;l3;l4;l5;}\n",
        "{rank=same; z1; z2;}\n",
        "{rank=same; y0; y1}\n",
        "z1 [shape=\"invtrapezium\"; style=dashed]\n",
        "z2 [shape=\"invtrapezium\"; style=dashed]\n",
        "y0 [shape=\"invtrapezium\"]\n",
        "y1 [shape=\"invtrapezium\"]\n",
        "x [shape=\"invtrapezium\"]\n",
        "\n",
        "1 -> y0\n",
        "l2 -> z1\n",
        "l3 -> z1 [style=bold]\n",
        "l4 -> z2\n",
        "l5 -> z2 [style=bold]\n",
        "\n",
        "z1 -> y0 [style=bold]\n",
        "z2 -> y1\n",
        "1 -> y1 [style=bold]\n",
        "y0 -> x\n",
        "y1 -> x [style=bold]\n",
        "\n",
        "\n",
        "l2 [label=\"1\"]\n",
        "l3 [label=\"0\"]\n",
        "l4 [label=\"1\"]\n",
        "l5 [label=\"0\"]\n",
        "\n",
        "\n",
        "\n",
        " }\n",
        " \"\"\"\n",
        "\n",
        "from graphviz import Source\n",
        "from IPython.display import SVG\n",
        "\n",
        "graph = Source(dot_graph)\n",
        "SVG(graph.pipe(format='svg'))"
      ],
      "metadata": {
        "colab": {
          "base_uri": "https://localhost:8080/",
          "height": 368
        },
        "id": "L4Y1-HWHF2_3",
        "outputId": "ecae0088-24ff-46e9-9908-7c05af7e7a99"
      },
      "execution_count": null,
      "outputs": [
        {
          "output_type": "execute_result",
          "data": {
            "text/plain": [
              "<IPython.core.display.SVG object>"
            ],
            "image/svg+xml": "<svg xmlns=\"http://www.w3.org/2000/svg\" xmlns:xlink=\"http://www.w3.org/1999/xlink\" width=\"314pt\" height=\"260pt\" viewBox=\"0.00 0.00 314.00 260.00\">\n<g id=\"graph0\" class=\"graph\" transform=\"scale(1 1) rotate(0) translate(4 256)\">\n<title>G</title>\n<polygon fill=\"white\" stroke=\"transparent\" points=\"-4,4 -4,-256 310,-256 310,4 -4,4\"/>\n<!-- l2 -->\n<g id=\"node1\" class=\"node\">\n<title>l2</title>\n<ellipse fill=\"none\" stroke=\"black\" cx=\"27\" cy=\"-234\" rx=\"27\" ry=\"18\"/>\n<text text-anchor=\"middle\" x=\"27\" y=\"-230.3\" font-family=\"Times,serif\" font-size=\"14.00\">1</text>\n</g>\n<!-- z1 -->\n<g id=\"node5\" class=\"node\">\n<title>z1</title>\n<polygon fill=\"none\" stroke=\"black\" stroke-dasharray=\"5,2\" points=\"65.23,-144 96.77,-144 108,-180 54,-180 65.23,-144\"/>\n<text text-anchor=\"middle\" x=\"81\" y=\"-158.3\" font-family=\"Times,serif\" font-size=\"14.00\">z1</text>\n</g>\n<!-- l2&#45;&gt;z1 -->\n<g id=\"edge2\" class=\"edge\">\n<title>l2-&gt;z1</title>\n<path fill=\"none\" stroke=\"black\" d=\"M38.98,-217.46C45.52,-208.99 53.78,-198.29 61.24,-188.61\"/>\n<polygon fill=\"black\" stroke=\"black\" points=\"64.19,-190.52 67.53,-180.46 58.65,-186.24 64.19,-190.52\"/>\n</g>\n<!-- l3 -->\n<g id=\"node2\" class=\"node\">\n<title>l3</title>\n<ellipse fill=\"none\" stroke=\"black\" cx=\"99\" cy=\"-234\" rx=\"27\" ry=\"18\"/>\n<text text-anchor=\"middle\" x=\"99\" y=\"-230.3\" font-family=\"Times,serif\" font-size=\"14.00\">0</text>\n</g>\n<!-- l3&#45;&gt;z1 -->\n<g id=\"edge3\" class=\"edge\">\n<title>l3-&gt;z1</title>\n<path fill=\"none\" stroke=\"black\" stroke-width=\"2\" d=\"M94.64,-216.05C92.64,-208.26 90.21,-198.82 87.96,-190.08\"/>\n<polygon fill=\"black\" stroke=\"black\" stroke-width=\"2\" points=\"91.32,-189.09 85.44,-180.28 84.54,-190.83 91.32,-189.09\"/>\n</g>\n<!-- l4 -->\n<g id=\"node3\" class=\"node\">\n<title>l4</title>\n<ellipse fill=\"none\" stroke=\"black\" cx=\"207\" cy=\"-234\" rx=\"27\" ry=\"18\"/>\n<text text-anchor=\"middle\" x=\"207\" y=\"-230.3\" font-family=\"Times,serif\" font-size=\"14.00\">1</text>\n</g>\n<!-- z2 -->\n<g id=\"node6\" class=\"node\">\n<title>z2</title>\n<polygon fill=\"none\" stroke=\"black\" stroke-dasharray=\"5,2\" points=\"209.23,-144 240.77,-144 252,-180 198,-180 209.23,-144\"/>\n<text text-anchor=\"middle\" x=\"225\" y=\"-158.3\" font-family=\"Times,serif\" font-size=\"14.00\">z2</text>\n</g>\n<!-- l4&#45;&gt;z2 -->\n<g id=\"edge4\" class=\"edge\">\n<title>l4-&gt;z2</title>\n<path fill=\"none\" stroke=\"black\" d=\"M211.36,-216.05C213.36,-208.26 215.79,-198.82 218.04,-190.08\"/>\n<polygon fill=\"black\" stroke=\"black\" points=\"221.46,-190.83 220.56,-180.28 214.68,-189.09 221.46,-190.83\"/>\n</g>\n<!-- l5 -->\n<g id=\"node4\" class=\"node\">\n<title>l5</title>\n<ellipse fill=\"none\" stroke=\"black\" cx=\"279\" cy=\"-234\" rx=\"27\" ry=\"18\"/>\n<text text-anchor=\"middle\" x=\"279\" y=\"-230.3\" font-family=\"Times,serif\" font-size=\"14.00\">0</text>\n</g>\n<!-- l5&#45;&gt;z2 -->\n<g id=\"edge5\" class=\"edge\">\n<title>l5-&gt;z2</title>\n<path fill=\"none\" stroke=\"black\" stroke-width=\"2\" d=\"M267.02,-217.46C260.48,-208.99 252.22,-198.29 244.76,-188.61\"/>\n<polygon fill=\"black\" stroke=\"black\" stroke-width=\"2\" points=\"247.35,-186.24 238.47,-180.46 241.81,-190.52 247.35,-186.24\"/>\n</g>\n<!-- y0 -->\n<g id=\"node7\" class=\"node\">\n<title>y0</title>\n<polygon fill=\"none\" stroke=\"black\" points=\"99.85,-72 132.15,-72 143.65,-108 88.35,-108 99.85,-72\"/>\n<text text-anchor=\"middle\" x=\"116\" y=\"-86.3\" font-family=\"Times,serif\" font-size=\"14.00\">y0</text>\n</g>\n<!-- z1&#45;&gt;y0 -->\n<g id=\"edge6\" class=\"edge\">\n<title>z1-&gt;y0</title>\n<path fill=\"none\" stroke=\"black\" stroke-width=\"2\" d=\"M89.65,-143.7C93.64,-135.73 98.45,-126.1 102.87,-117.26\"/>\n<polygon fill=\"black\" stroke=\"black\" stroke-width=\"2\" points=\"106.11,-118.61 107.45,-108.1 99.85,-115.48 106.11,-118.61\"/>\n</g>\n<!-- y1 -->\n<g id=\"node8\" class=\"node\">\n<title>y1</title>\n<polygon fill=\"none\" stroke=\"black\" points=\"172.85,-72 205.15,-72 216.65,-108 161.35,-108 172.85,-72\"/>\n<text text-anchor=\"middle\" x=\"189\" y=\"-86.3\" font-family=\"Times,serif\" font-size=\"14.00\">y1</text>\n</g>\n<!-- z2&#45;&gt;y1 -->\n<g id=\"edge7\" class=\"edge\">\n<title>z2-&gt;y1</title>\n<path fill=\"none\" stroke=\"black\" d=\"M216.1,-143.7C212,-135.73 207.05,-126.1 202.51,-117.26\"/>\n<polygon fill=\"black\" stroke=\"black\" points=\"205.48,-115.4 197.8,-108.1 199.26,-118.6 205.48,-115.4\"/>\n</g>\n<!-- x -->\n<g id=\"node9\" class=\"node\">\n<title>x</title>\n<polygon fill=\"none\" stroke=\"black\" points=\"136.23,0 167.77,0 179,-36 125,-36 136.23,0\"/>\n<text text-anchor=\"middle\" x=\"152\" y=\"-14.3\" font-family=\"Times,serif\" font-size=\"14.00\">x</text>\n</g>\n<!-- y0&#45;&gt;x -->\n<g id=\"edge9\" class=\"edge\">\n<title>y0-&gt;x</title>\n<path fill=\"none\" stroke=\"black\" d=\"M124.9,-71.7C129,-63.73 133.95,-54.1 138.49,-45.26\"/>\n<polygon fill=\"black\" stroke=\"black\" points=\"141.74,-46.6 143.2,-36.1 135.52,-43.4 141.74,-46.6\"/>\n</g>\n<!-- y1&#45;&gt;x -->\n<g id=\"edge10\" class=\"edge\">\n<title>y1-&gt;x</title>\n<path fill=\"none\" stroke=\"black\" stroke-width=\"2\" d=\"M179.85,-71.7C175.6,-63.64 170.44,-53.89 165.73,-44.98\"/>\n<polygon fill=\"black\" stroke=\"black\" stroke-width=\"2\" points=\"168.81,-43.31 161.04,-36.1 162.62,-46.58 168.81,-43.31\"/>\n</g>\n<!-- 1 -->\n<g id=\"node10\" class=\"node\">\n<title>1</title>\n<ellipse fill=\"none\" stroke=\"black\" cx=\"153\" cy=\"-162\" rx=\"27\" ry=\"18\"/>\n<text text-anchor=\"middle\" x=\"153\" y=\"-158.3\" font-family=\"Times,serif\" font-size=\"14.00\">1</text>\n</g>\n<!-- 1&#45;&gt;y0 -->\n<g id=\"edge1\" class=\"edge\">\n<title>1-&gt;y0</title>\n<path fill=\"none\" stroke=\"black\" d=\"M144.42,-144.76C140.06,-136.53 134.67,-126.32 129.75,-117.02\"/>\n<polygon fill=\"black\" stroke=\"black\" points=\"132.82,-115.33 125.05,-108.12 126.63,-118.6 132.82,-115.33\"/>\n</g>\n<!-- 1&#45;&gt;y1 -->\n<g id=\"edge8\" class=\"edge\">\n<title>1-&gt;y1</title>\n<path fill=\"none\" stroke=\"black\" stroke-width=\"2\" d=\"M161.35,-144.76C165.54,-136.61 170.73,-126.53 175.47,-117.31\"/>\n<polygon fill=\"black\" stroke=\"black\" stroke-width=\"2\" points=\"178.73,-118.62 180.19,-108.12 172.51,-115.42 178.73,-118.62\"/>\n</g>\n</g>\n</svg>"
          },
          "metadata": {},
          "execution_count": 25
        }
      ]
    },
    {
      "cell_type": "code",
      "source": [
        "#@title Y0 e Y1 são funções complementares $y0= \\overline{y1}$\n",
        "dot_graph = \"\"\"\n",
        "digraph G {\n",
        "\n",
        "\n",
        "\n",
        "y [shape=\"invtrapezium\"]\n",
        "x [shape=\"invtrapezium\"]\n",
        "\n",
        "1 -> y\n",
        "\n",
        "\n",
        "\n",
        "NotZ -> y [style=bold]\n",
        "\n",
        "y -> x\n",
        "y -> x [style=bold]\n",
        "\n",
        "\n",
        "\n",
        "\n",
        "\n",
        " }\n",
        " \"\"\"\n",
        "\n",
        "from graphviz import Source\n",
        "from IPython.display import SVG\n",
        "\n",
        "graph = Source(dot_graph)\n",
        "SVG(graph.pipe(format='svg'))"
      ],
      "metadata": {
        "colab": {
          "base_uri": "https://localhost:8080/",
          "height": 272
        },
        "id": "n63yBzBMHXxr",
        "outputId": "04c14c53-8459-4075-ba57-972dac1c5c19"
      },
      "execution_count": null,
      "outputs": [
        {
          "output_type": "execute_result",
          "data": {
            "text/plain": [
              "<IPython.core.display.SVG object>"
            ],
            "image/svg+xml": "<svg xmlns=\"http://www.w3.org/2000/svg\" xmlns:xlink=\"http://www.w3.org/1999/xlink\" width=\"138pt\" height=\"188pt\" viewBox=\"0.00 0.00 138.25 188.00\">\n<g id=\"graph0\" class=\"graph\" transform=\"scale(1 1) rotate(0) translate(4 184)\">\n<title>G</title>\n<polygon fill=\"white\" stroke=\"transparent\" points=\"-4,4 -4,-184 134.25,-184 134.25,4 -4,4\"/>\n<!-- y -->\n<g id=\"node1\" class=\"node\">\n<title>y</title>\n<polygon fill=\"none\" stroke=\"black\" points=\"48.23,-72 79.77,-72 91,-108 37,-108 48.23,-72\"/>\n<text text-anchor=\"middle\" x=\"64\" y=\"-86.3\" font-family=\"Times,serif\" font-size=\"14.00\">y</text>\n</g>\n<!-- x -->\n<g id=\"node2\" class=\"node\">\n<title>x</title>\n<polygon fill=\"none\" stroke=\"black\" points=\"48.23,0 79.77,0 91,-36 37,-36 48.23,0\"/>\n<text text-anchor=\"middle\" x=\"64\" y=\"-14.3\" font-family=\"Times,serif\" font-size=\"14.00\">x</text>\n</g>\n<!-- y&#45;&gt;x -->\n<g id=\"edge3\" class=\"edge\">\n<title>y-&gt;x</title>\n<path fill=\"none\" stroke=\"black\" d=\"M58.08,-71.7C57.29,-63.98 57.06,-54.71 57.4,-46.11\"/>\n<polygon fill=\"black\" stroke=\"black\" points=\"60.9,-46.32 58.1,-36.1 53.92,-45.84 60.9,-46.32\"/>\n</g>\n<!-- y&#45;&gt;x -->\n<g id=\"edge4\" class=\"edge\">\n<title>y-&gt;x</title>\n<path fill=\"none\" stroke=\"black\" stroke-width=\"2\" d=\"M69.92,-71.7C70.71,-63.98 70.94,-54.71 70.6,-46.11\"/>\n<polygon fill=\"black\" stroke=\"black\" stroke-width=\"2\" points=\"74.08,-45.84 69.9,-36.1 67.1,-46.32 74.08,-45.84\"/>\n</g>\n<!-- 1 -->\n<g id=\"node3\" class=\"node\">\n<title>1</title>\n<ellipse fill=\"none\" stroke=\"black\" cx=\"27\" cy=\"-162\" rx=\"27\" ry=\"18\"/>\n<text text-anchor=\"middle\" x=\"27\" y=\"-158.3\" font-family=\"Times,serif\" font-size=\"14.00\">1</text>\n</g>\n<!-- 1&#45;&gt;y -->\n<g id=\"edge1\" class=\"edge\">\n<title>1-&gt;y</title>\n<path fill=\"none\" stroke=\"black\" d=\"M35.58,-144.76C39.94,-136.53 45.33,-126.32 50.25,-117.02\"/>\n<polygon fill=\"black\" stroke=\"black\" points=\"53.37,-118.6 54.95,-108.12 47.18,-115.33 53.37,-118.6\"/>\n</g>\n<!-- NotZ -->\n<g id=\"node4\" class=\"node\">\n<title>NotZ</title>\n<ellipse fill=\"none\" stroke=\"black\" cx=\"101\" cy=\"-162\" rx=\"29.5\" ry=\"18\"/>\n<text text-anchor=\"middle\" x=\"101\" y=\"-158.3\" font-family=\"Times,serif\" font-size=\"14.00\">NotZ</text>\n</g>\n<!-- NotZ&#45;&gt;y -->\n<g id=\"edge2\" class=\"edge\">\n<title>NotZ-&gt;y</title>\n<path fill=\"none\" stroke=\"black\" stroke-width=\"2\" d=\"M92.42,-144.76C88.06,-136.53 82.67,-126.32 77.75,-117.02\"/>\n<polygon fill=\"black\" stroke=\"black\" stroke-width=\"2\" points=\"80.82,-115.33 73.05,-108.12 74.63,-118.6 80.82,-115.33\"/>\n</g>\n</g>\n</svg>"
          },
          "metadata": {},
          "execution_count": 29
        }
      ]
    },
    {
      "cell_type": "markdown",
      "source": [
        "# Parte II do Trabalho\n",
        "\n",
        "Execute a célula abaixo para fazer as portas de três usando somente 2 portas MUX. Monte o Verilog para comprovar o funcionamento."
      ],
      "metadata": {
        "id": "-xfz82kAGnYh"
      }
    },
    {
      "cell_type": "code",
      "source": [
        "#@title Gerando a parte II\n",
        "D ={}\n",
        "L = [ \"dot\",\"AndXor\", \"XorAnd\",\"OrAnd\",\"Majority\",\"Xor3\"]\n",
        "D[L[(sum(Mat)//197)%len(L)]]  = 1\n",
        "print(\"a) Faça uma porta \",L[(sum(Mat)//197)%len(L)],\" usando 2 Mux\")\n",
        "x= 2113\n",
        "while (L[(sum(Mat)//x)%len(L)] in D):\n",
        "  x = x+1 \n",
        "print(\"b) Faça uma porta \",L[(sum(Mat)//x)%len(L)],\" usando 2 Mux\")\n"
      ],
      "metadata": {
        "colab": {
          "base_uri": "https://localhost:8080/"
        },
        "cellView": "form",
        "id": "alFrDyxWG-Sd",
        "outputId": "983cc0f2-7c3d-4b36-eb16-9d47bf9f2698"
      },
      "execution_count": null,
      "outputs": [
        {
          "output_type": "stream",
          "name": "stdout",
          "text": [
            "a) Faça uma porta  Majority  usando 2 Mux\n",
            "b) Faça uma porta  OrAnd  usando 2 Mux\n"
          ]
        }
      ]
    },
    {
      "cell_type": "markdown",
      "source": [
        "#### **a)**"
      ],
      "metadata": {
        "id": "h0wpHe0ZQbRF"
      }
    },
    {
      "cell_type": "markdown",
      "source": [
        "#### **b)**"
      ],
      "metadata": {
        "id": "4bxdD1Z6Qbdl"
      }
    },
    {
      "cell_type": "markdown",
      "source": [
        "## Pontos Extras\n",
        "\n",
        "Com duas portas DOT podemos fazer várias portas de 3.\n",
        "\n",
        "\n",
        "![](https://github.com/arduinoufv/inf150/blob/master/aulas2023/trabalho1/figuras/512mil.png?raw=true)\n",
        "\n",
        "**Objetivo** gerar uma porta ALVO usando duas portas BASE. \n",
        "\n",
        "**Desafio** encontrar a combinação que gere a função correta. No primeiro nível a porta base pode receber oito possibilidades em cada entrada, são 3 entradas que dá 512 combinações. No segundo nível, pode receber a função do primeiro nível direta ou invertida, que dão 10 possibilidades em cada entrada. Portanto serão 512 mil opções !\n",
        "\n",
        "\n",
        "Suponha a porta DOT como porta base. Tente fazer as outras portas.\n",
        "Execute a célula a abaixo e tente fazer os desafios:"
      ],
      "metadata": {
        "id": "aXuanf4PRQcM"
      }
    },
    {
      "cell_type": "code",
      "source": [
        "#@title Desafios\n",
        "L = [ \"Onehot\",\"AndXor\", \"XorAnd\",\"OrAnd\",\"Majority\",\"Xor3\",\"Mux\"]\n",
        "D[L[(sum(Mat)//197)%len(L)]]  = 1\n",
        "print(\"a) Faça uma porta \",L[(sum(Mat)//197)%len(L)],\" usando 2 Dot\")\n",
        "x= 2113\n",
        "while (L[(sum(Mat)//x)%len(L)] in D):\n",
        "  x = x+1 \n",
        "print(\"b) Faça uma porta \",L[(sum(Mat)//x)%len(L)],\" usando 2 Dot\")\n"
      ],
      "metadata": {
        "colab": {
          "base_uri": "https://localhost:8080/"
        },
        "cellView": "form",
        "outputId": "be6a77f3-15bd-4ecf-b5b9-dbb9699d2b44",
        "id": "PSPehg8ERfxL"
      },
      "execution_count": null,
      "outputs": [
        {
          "output_type": "stream",
          "name": "stdout",
          "text": [
            "a) Faça uma porta  Xor3  usando 2 Dot\n",
            "b) Faça uma porta  AndXor  usando 2 Dot\n"
          ]
        }
      ]
    }
  ]
}